{
  "cells": [
    {
      "cell_type": "markdown",
      "metadata": {
        "id": "view-in-github",
        "colab_type": "text"
      },
      "source": [
        "<a href=\"https://colab.research.google.com/github/Psubrat98/ML-Projects-With-Python/blob/main/Netwok_attack_type/Netwok_attack_type_prediction.ipynb\" target=\"_parent\"><img src=\"https://colab.research.google.com/assets/colab-badge.svg\" alt=\"Open In Colab\"/></a>"
      ]
    },
    {
      "cell_type": "markdown",
      "source": [
        "Importing required libraries..."
      ],
      "metadata": {
        "id": "8_ykLTNA6ioI"
      }
    },
    {
      "cell_type": "code",
      "execution_count": 3,
      "metadata": {
        "id": "gJlaljEU0_zr"
      },
      "outputs": [],
      "source": [
        "import numpy as np\n",
        "import matplotlib.pyplot as plt\n",
        "import tensorflow as tf\n",
        "from tensorflow import keras\n",
        "tf.random.set_seed(3)\n",
        "import pandas as pd\n",
        "from sklearn.model_selection import train_test_split\n",
        "from sklearn.feature_selection import VarianceThreshold\n",
        "from sklearn.metrics import plot_confusion_matrix\n",
        "from sklearn.tree import DecisionTreeClassifier\n",
        "from sklearn.metrics import accuracy_score"
      ]
    },
    {
      "cell_type": "markdown",
      "source": [
        "Loadiing the Dataset from Lab files..."
      ],
      "metadata": {
        "id": "GL4B_hQu6__M"
      }
    },
    {
      "cell_type": "code",
      "execution_count": 4,
      "metadata": {
        "id": "dyxlnTM3322X"
      },
      "outputs": [],
      "source": [
        "data_set = pd.read_csv('/content/UNR-IDD.csv')"
      ]
    },
    {
      "cell_type": "markdown",
      "source": [
        "Suffling the dataset..."
      ],
      "metadata": {
        "id": "dSGcl1JG7NEd"
      }
    },
    {
      "cell_type": "code",
      "source": [
        "data_set = data_set.sample(frac=1).reset_index(drop=True)"
      ],
      "metadata": {
        "id": "-Gh-DqZ142EJ"
      },
      "execution_count": 5,
      "outputs": []
    },
    {
      "cell_type": "code",
      "execution_count": 6,
      "metadata": {
        "colab": {
          "base_uri": "https://localhost:8080/"
        },
        "id": "AY5PELBd5zQ4",
        "outputId": "683a7eaf-3895-431e-96fb-9f4e8d50d872"
      },
      "outputs": [
        {
          "output_type": "stream",
          "name": "stdout",
          "text": [
            "                 Switch ID Port Number  Received Packets  Received Bytes  \\\n",
            "0      of:0000000000000006     Port#:2               127           16674   \n",
            "1      of:0000000000000008     Port#:1              1401          189318   \n",
            "2      of:0000000000000007     Port#:2               945        25239432   \n",
            "3      of:0000000000000003     Port#:1               125            8723   \n",
            "4      of:0000000000000007     Port#:1               144           19522   \n",
            "...                    ...         ...               ...             ...   \n",
            "37406  of:0000000000000002     Port#:1               926        25229606   \n",
            "37407  of:0000000000000003     Port#:3              2626        19136918   \n",
            "37408  of:000000000000000a     Port#:1               864        12642244   \n",
            "37409  of:0000000000000001     Port#:4               652        18928771   \n",
            "37410  of:0000000000000003     Port#:1              3010        75675177   \n",
            "\n",
            "       Sent Bytes  Sent Packets  Port alive Duration (S)  Packets Rx Dropped  \\\n",
            "0         6417048          2097                      131                   0   \n",
            "1         6512839          1867                     2072                   0   \n",
            "2         6343725           635                      146                   0   \n",
            "3         6318419           288                      116                   0   \n",
            "4           19606           146                      166                   0   \n",
            "...           ...           ...                      ...                 ...   \n",
            "37406    12665757          1001                      266                   0   \n",
            "37407    25410215          2357                     1786                   0   \n",
            "37408    38956322        245484                      985                   0   \n",
            "37409       27015           260                      161                   0   \n",
            "37410    50748263          4399                     2527                   0   \n",
            "\n",
            "       Packets Tx Dropped  Packets Rx Errors  ...  Unknown Load/Latest  \\\n",
            "0                       0                  0  ...                96282   \n",
            "1                       0                  0  ...                    0   \n",
            "2                       0                  0  ...                 7021   \n",
            "3                       0                  0  ...                    0   \n",
            "4                       0                  0  ...                    0   \n",
            "...                   ...                ...  ...                  ...   \n",
            "37406                   0                  0  ...                    0   \n",
            "37407                   0                  0  ...                    0   \n",
            "37408                   0                  0  ...             12606923   \n",
            "37409                   0                  0  ...                    0   \n",
            "37410                   0                  0  ...                    0   \n",
            "\n",
            "       Latest bytes counter  is_valid  Table ID  Active Flow Entries  \\\n",
            "0                       480      True         0                    6   \n",
            "1                         0      True         0                  505   \n",
            "2                       702      True         0                    5   \n",
            "3                         0      True         0                    6   \n",
            "4                         0      True         0                    8   \n",
            "...                     ...       ...       ...                  ...   \n",
            "37406                     0      True         0                    6   \n",
            "37407                     0      True         0                    6   \n",
            "37408                288895      True         0                    8   \n",
            "37409                     0      True         0                    6   \n",
            "37410                     0      True         0                    4   \n",
            "\n",
            "       Packets Looked Up  Packets Matched  Max Size      Label  Binary Label  \n",
            "0                   2672             2558        -1    TCP-SYN        Attack  \n",
            "1                   7872             7736        -1  Blackhole        Attack  \n",
            "2                   1814             1698        -1    TCP-SYN        Attack  \n",
            "3                    937              849        -1   PortScan        Attack  \n",
            "4                   7246             7134        -1    TCP-SYN        Attack  \n",
            "...                  ...              ...       ...        ...           ...  \n",
            "37406             135423           135360        -1   PortScan        Attack  \n",
            "37407              11272            11152        -1  Blackhole        Attack  \n",
            "37408             644344           644225        -1     Normal        Normal  \n",
            "37409               1866             1772        -1   PortScan        Attack  \n",
            "37410              18220            18085        -1  Blackhole        Attack  \n",
            "\n",
            "[37411 rows x 34 columns]\n"
          ]
        }
      ],
      "source": [
        "print(data_set)"
      ]
    },
    {
      "cell_type": "markdown",
      "source": [
        "Merging required Label and Binary label columns of Dataset to get desire lable column..."
      ],
      "metadata": {
        "id": "DSMKr4uu7jFz"
      }
    },
    {
      "cell_type": "code",
      "execution_count": 7,
      "metadata": {
        "id": "qd6U4J-WMvRP"
      },
      "outputs": [],
      "source": [
        "data_set['Actual Label'] = data_set['Label']+' '+data_set['Binary Label']"
      ]
    },
    {
      "cell_type": "markdown",
      "source": [
        "Setiing required out put test values of Actual label column with numerical values..."
      ],
      "metadata": {
        "id": "dSUSHi4I8obx"
      }
    },
    {
      "cell_type": "code",
      "execution_count": 8,
      "metadata": {
        "id": "WhMbne9l6fIw"
      },
      "outputs": [],
      "source": [
        "data_set.loc[data_set['Actual Label'] == 'TCP-SYN Attack', 'Actual Label',] = 0\n",
        "data_set.loc[data_set['Actual Label'] == 'Blackhole Attack', 'Actual Label',] = 1\n",
        "data_set.loc[data_set['Actual Label'] == 'Diversion Attack', 'Actual Label',] = 2\n",
        "data_set.loc[data_set['Actual Label'] == 'Overflow Attack', 'Actual Label',] = 3\n",
        "data_set.loc[data_set['Actual Label'] == 'Normal Normal', 'Actual Label',] = 4\n",
        "data_set.loc[data_set['Actual Label'] == 'PortScan Attack', 'Actual Label',] = 5"
      ]
    },
    {
      "cell_type": "code",
      "source": [
        "data_set.head()"
      ],
      "metadata": {
        "colab": {
          "base_uri": "https://localhost:8080/",
          "height": 404
        },
        "id": "vo_zMtNQX6bO",
        "outputId": "7a4eab78-4074-4629-96e8-c45c6f32e0e7"
      },
      "execution_count": 9,
      "outputs": [
        {
          "output_type": "execute_result",
          "data": {
            "text/plain": [
              "             Switch ID Port Number  Received Packets  Received Bytes  \\\n",
              "0  of:0000000000000006     Port#:2               127           16674   \n",
              "1  of:0000000000000008     Port#:1              1401          189318   \n",
              "2  of:0000000000000007     Port#:2               945        25239432   \n",
              "3  of:0000000000000003     Port#:1               125            8723   \n",
              "4  of:0000000000000007     Port#:1               144           19522   \n",
              "\n",
              "   Sent Bytes  Sent Packets  Port alive Duration (S)  Packets Rx Dropped  \\\n",
              "0     6417048          2097                      131                   0   \n",
              "1     6512839          1867                     2072                   0   \n",
              "2     6343725           635                      146                   0   \n",
              "3     6318419           288                      116                   0   \n",
              "4       19606           146                      166                   0   \n",
              "\n",
              "   Packets Tx Dropped  Packets Rx Errors  ...  Latest bytes counter  is_valid  \\\n",
              "0                   0                  0  ...                   480      True   \n",
              "1                   0                  0  ...                     0      True   \n",
              "2                   0                  0  ...                   702      True   \n",
              "3                   0                  0  ...                     0      True   \n",
              "4                   0                  0  ...                     0      True   \n",
              "\n",
              "   Table ID  Active Flow Entries  Packets Looked Up  Packets Matched  \\\n",
              "0         0                    6               2672             2558   \n",
              "1         0                  505               7872             7736   \n",
              "2         0                    5               1814             1698   \n",
              "3         0                    6                937              849   \n",
              "4         0                    8               7246             7134   \n",
              "\n",
              "   Max Size      Label  Binary Label  Actual Label  \n",
              "0        -1    TCP-SYN        Attack             0  \n",
              "1        -1  Blackhole        Attack             1  \n",
              "2        -1    TCP-SYN        Attack             0  \n",
              "3        -1   PortScan        Attack             5  \n",
              "4        -1    TCP-SYN        Attack             0  \n",
              "\n",
              "[5 rows x 35 columns]"
            ],
            "text/html": [
              "\n",
              "  <div id=\"df-81175d4b-b47d-4664-a0f3-4e537e7752a0\">\n",
              "    <div class=\"colab-df-container\">\n",
              "      <div>\n",
              "<style scoped>\n",
              "    .dataframe tbody tr th:only-of-type {\n",
              "        vertical-align: middle;\n",
              "    }\n",
              "\n",
              "    .dataframe tbody tr th {\n",
              "        vertical-align: top;\n",
              "    }\n",
              "\n",
              "    .dataframe thead th {\n",
              "        text-align: right;\n",
              "    }\n",
              "</style>\n",
              "<table border=\"1\" class=\"dataframe\">\n",
              "  <thead>\n",
              "    <tr style=\"text-align: right;\">\n",
              "      <th></th>\n",
              "      <th>Switch ID</th>\n",
              "      <th>Port Number</th>\n",
              "      <th>Received Packets</th>\n",
              "      <th>Received Bytes</th>\n",
              "      <th>Sent Bytes</th>\n",
              "      <th>Sent Packets</th>\n",
              "      <th>Port alive Duration (S)</th>\n",
              "      <th>Packets Rx Dropped</th>\n",
              "      <th>Packets Tx Dropped</th>\n",
              "      <th>Packets Rx Errors</th>\n",
              "      <th>...</th>\n",
              "      <th>Latest bytes counter</th>\n",
              "      <th>is_valid</th>\n",
              "      <th>Table ID</th>\n",
              "      <th>Active Flow Entries</th>\n",
              "      <th>Packets Looked Up</th>\n",
              "      <th>Packets Matched</th>\n",
              "      <th>Max Size</th>\n",
              "      <th>Label</th>\n",
              "      <th>Binary Label</th>\n",
              "      <th>Actual Label</th>\n",
              "    </tr>\n",
              "  </thead>\n",
              "  <tbody>\n",
              "    <tr>\n",
              "      <th>0</th>\n",
              "      <td>of:0000000000000006</td>\n",
              "      <td>Port#:2</td>\n",
              "      <td>127</td>\n",
              "      <td>16674</td>\n",
              "      <td>6417048</td>\n",
              "      <td>2097</td>\n",
              "      <td>131</td>\n",
              "      <td>0</td>\n",
              "      <td>0</td>\n",
              "      <td>0</td>\n",
              "      <td>...</td>\n",
              "      <td>480</td>\n",
              "      <td>True</td>\n",
              "      <td>0</td>\n",
              "      <td>6</td>\n",
              "      <td>2672</td>\n",
              "      <td>2558</td>\n",
              "      <td>-1</td>\n",
              "      <td>TCP-SYN</td>\n",
              "      <td>Attack</td>\n",
              "      <td>0</td>\n",
              "    </tr>\n",
              "    <tr>\n",
              "      <th>1</th>\n",
              "      <td>of:0000000000000008</td>\n",
              "      <td>Port#:1</td>\n",
              "      <td>1401</td>\n",
              "      <td>189318</td>\n",
              "      <td>6512839</td>\n",
              "      <td>1867</td>\n",
              "      <td>2072</td>\n",
              "      <td>0</td>\n",
              "      <td>0</td>\n",
              "      <td>0</td>\n",
              "      <td>...</td>\n",
              "      <td>0</td>\n",
              "      <td>True</td>\n",
              "      <td>0</td>\n",
              "      <td>505</td>\n",
              "      <td>7872</td>\n",
              "      <td>7736</td>\n",
              "      <td>-1</td>\n",
              "      <td>Blackhole</td>\n",
              "      <td>Attack</td>\n",
              "      <td>1</td>\n",
              "    </tr>\n",
              "    <tr>\n",
              "      <th>2</th>\n",
              "      <td>of:0000000000000007</td>\n",
              "      <td>Port#:2</td>\n",
              "      <td>945</td>\n",
              "      <td>25239432</td>\n",
              "      <td>6343725</td>\n",
              "      <td>635</td>\n",
              "      <td>146</td>\n",
              "      <td>0</td>\n",
              "      <td>0</td>\n",
              "      <td>0</td>\n",
              "      <td>...</td>\n",
              "      <td>702</td>\n",
              "      <td>True</td>\n",
              "      <td>0</td>\n",
              "      <td>5</td>\n",
              "      <td>1814</td>\n",
              "      <td>1698</td>\n",
              "      <td>-1</td>\n",
              "      <td>TCP-SYN</td>\n",
              "      <td>Attack</td>\n",
              "      <td>0</td>\n",
              "    </tr>\n",
              "    <tr>\n",
              "      <th>3</th>\n",
              "      <td>of:0000000000000003</td>\n",
              "      <td>Port#:1</td>\n",
              "      <td>125</td>\n",
              "      <td>8723</td>\n",
              "      <td>6318419</td>\n",
              "      <td>288</td>\n",
              "      <td>116</td>\n",
              "      <td>0</td>\n",
              "      <td>0</td>\n",
              "      <td>0</td>\n",
              "      <td>...</td>\n",
              "      <td>0</td>\n",
              "      <td>True</td>\n",
              "      <td>0</td>\n",
              "      <td>6</td>\n",
              "      <td>937</td>\n",
              "      <td>849</td>\n",
              "      <td>-1</td>\n",
              "      <td>PortScan</td>\n",
              "      <td>Attack</td>\n",
              "      <td>5</td>\n",
              "    </tr>\n",
              "    <tr>\n",
              "      <th>4</th>\n",
              "      <td>of:0000000000000007</td>\n",
              "      <td>Port#:1</td>\n",
              "      <td>144</td>\n",
              "      <td>19522</td>\n",
              "      <td>19606</td>\n",
              "      <td>146</td>\n",
              "      <td>166</td>\n",
              "      <td>0</td>\n",
              "      <td>0</td>\n",
              "      <td>0</td>\n",
              "      <td>...</td>\n",
              "      <td>0</td>\n",
              "      <td>True</td>\n",
              "      <td>0</td>\n",
              "      <td>8</td>\n",
              "      <td>7246</td>\n",
              "      <td>7134</td>\n",
              "      <td>-1</td>\n",
              "      <td>TCP-SYN</td>\n",
              "      <td>Attack</td>\n",
              "      <td>0</td>\n",
              "    </tr>\n",
              "  </tbody>\n",
              "</table>\n",
              "<p>5 rows × 35 columns</p>\n",
              "</div>\n",
              "      <button class=\"colab-df-convert\" onclick=\"convertToInteractive('df-81175d4b-b47d-4664-a0f3-4e537e7752a0')\"\n",
              "              title=\"Convert this dataframe to an interactive table.\"\n",
              "              style=\"display:none;\">\n",
              "        \n",
              "  <svg xmlns=\"http://www.w3.org/2000/svg\" height=\"24px\"viewBox=\"0 0 24 24\"\n",
              "       width=\"24px\">\n",
              "    <path d=\"M0 0h24v24H0V0z\" fill=\"none\"/>\n",
              "    <path d=\"M18.56 5.44l.94 2.06.94-2.06 2.06-.94-2.06-.94-.94-2.06-.94 2.06-2.06.94zm-11 1L8.5 8.5l.94-2.06 2.06-.94-2.06-.94L8.5 2.5l-.94 2.06-2.06.94zm10 10l.94 2.06.94-2.06 2.06-.94-2.06-.94-.94-2.06-.94 2.06-2.06.94z\"/><path d=\"M17.41 7.96l-1.37-1.37c-.4-.4-.92-.59-1.43-.59-.52 0-1.04.2-1.43.59L10.3 9.45l-7.72 7.72c-.78.78-.78 2.05 0 2.83L4 21.41c.39.39.9.59 1.41.59.51 0 1.02-.2 1.41-.59l7.78-7.78 2.81-2.81c.8-.78.8-2.07 0-2.86zM5.41 20L4 18.59l7.72-7.72 1.47 1.35L5.41 20z\"/>\n",
              "  </svg>\n",
              "      </button>\n",
              "      \n",
              "  <style>\n",
              "    .colab-df-container {\n",
              "      display:flex;\n",
              "      flex-wrap:wrap;\n",
              "      gap: 12px;\n",
              "    }\n",
              "\n",
              "    .colab-df-convert {\n",
              "      background-color: #E8F0FE;\n",
              "      border: none;\n",
              "      border-radius: 50%;\n",
              "      cursor: pointer;\n",
              "      display: none;\n",
              "      fill: #1967D2;\n",
              "      height: 32px;\n",
              "      padding: 0 0 0 0;\n",
              "      width: 32px;\n",
              "    }\n",
              "\n",
              "    .colab-df-convert:hover {\n",
              "      background-color: #E2EBFA;\n",
              "      box-shadow: 0px 1px 2px rgba(60, 64, 67, 0.3), 0px 1px 3px 1px rgba(60, 64, 67, 0.15);\n",
              "      fill: #174EA6;\n",
              "    }\n",
              "\n",
              "    [theme=dark] .colab-df-convert {\n",
              "      background-color: #3B4455;\n",
              "      fill: #D2E3FC;\n",
              "    }\n",
              "\n",
              "    [theme=dark] .colab-df-convert:hover {\n",
              "      background-color: #434B5C;\n",
              "      box-shadow: 0px 1px 3px 1px rgba(0, 0, 0, 0.15);\n",
              "      filter: drop-shadow(0px 1px 2px rgba(0, 0, 0, 0.3));\n",
              "      fill: #FFFFFF;\n",
              "    }\n",
              "  </style>\n",
              "\n",
              "      <script>\n",
              "        const buttonEl =\n",
              "          document.querySelector('#df-81175d4b-b47d-4664-a0f3-4e537e7752a0 button.colab-df-convert');\n",
              "        buttonEl.style.display =\n",
              "          google.colab.kernel.accessAllowed ? 'block' : 'none';\n",
              "\n",
              "        async function convertToInteractive(key) {\n",
              "          const element = document.querySelector('#df-81175d4b-b47d-4664-a0f3-4e537e7752a0');\n",
              "          const dataTable =\n",
              "            await google.colab.kernel.invokeFunction('convertToInteractive',\n",
              "                                                     [key], {});\n",
              "          if (!dataTable) return;\n",
              "\n",
              "          const docLinkHtml = 'Like what you see? Visit the ' +\n",
              "            '<a target=\"_blank\" href=https://colab.research.google.com/notebooks/data_table.ipynb>data table notebook</a>'\n",
              "            + ' to learn more about interactive tables.';\n",
              "          element.innerHTML = '';\n",
              "          dataTable['output_type'] = 'display_data';\n",
              "          await google.colab.output.renderOutput(dataTable, element);\n",
              "          const docLink = document.createElement('div');\n",
              "          docLink.innerHTML = docLinkHtml;\n",
              "          element.appendChild(docLink);\n",
              "        }\n",
              "      </script>\n",
              "    </div>\n",
              "  </div>\n",
              "  "
            ]
          },
          "metadata": {},
          "execution_count": 9
        }
      ]
    },
    {
      "cell_type": "markdown",
      "source": [
        "Loading dataset in X & Y by droping method..."
      ],
      "metadata": {
        "id": "znJWceC69VsW"
      }
    },
    {
      "cell_type": "code",
      "execution_count": 10,
      "metadata": {
        "id": "vUl4L7U7_0RP"
      },
      "outputs": [],
      "source": [
        "X = data_set.drop(['Switch ID','Port Number','is_valid','Label','Binary Label', 'Actual Label'], axis =1)\n",
        "Y = data_set['Actual Label']"
      ]
    },
    {
      "cell_type": "markdown",
      "source": [
        "Removing the unwanted features from datset by using variance_thresold method..."
      ],
      "metadata": {
        "id": "muPXZZQU9lmD"
      }
    },
    {
      "cell_type": "code",
      "source": [
        "var_th = VarianceThreshold(threshold = 0)\n",
        "var_th.fit(X)"
      ],
      "metadata": {
        "colab": {
          "base_uri": "https://localhost:8080/"
        },
        "id": "xOqddeXud1fM",
        "outputId": "92c9507a-321c-44c9-f6f7-08c17d6f7962"
      },
      "execution_count": 11,
      "outputs": [
        {
          "output_type": "execute_result",
          "data": {
            "text/plain": [
              "VarianceThreshold(threshold=0)"
            ]
          },
          "metadata": {},
          "execution_count": 11
        }
      ]
    },
    {
      "cell_type": "code",
      "source": [
        "var_th.get_support()"
      ],
      "metadata": {
        "colab": {
          "base_uri": "https://localhost:8080/"
        },
        "id": "2XKTJMhceKo3",
        "outputId": "be519026-d05c-49fd-df72-862f729eba2b"
      },
      "execution_count": 12,
      "outputs": [
        {
          "output_type": "execute_result",
          "data": {
            "text/plain": [
              "array([ True,  True,  True,  True,  True, False, False, False, False,\n",
              "        True,  True,  True,  True,  True, False, False, False, False,\n",
              "        True,  True,  True,  True,  True,  True, False,  True,  True,\n",
              "        True, False])"
            ]
          },
          "metadata": {},
          "execution_count": 12
        }
      ]
    },
    {
      "cell_type": "code",
      "source": [
        "X.columns[var_th.get_support()]"
      ],
      "metadata": {
        "colab": {
          "base_uri": "https://localhost:8080/"
        },
        "id": "-o3v40rseYOy",
        "outputId": "5814fca1-e61b-4b93-8ab1-e241a244f22f"
      },
      "execution_count": 13,
      "outputs": [
        {
          "output_type": "execute_result",
          "data": {
            "text/plain": [
              "Index(['Received Packets', 'Received Bytes', 'Sent Bytes', 'Sent Packets',\n",
              "       'Port alive Duration (S)', 'Delta Received Packets',\n",
              "       'Delta Received Bytes', 'Delta Sent Bytes', 'Delta Sent Packets',\n",
              "       'Delta Port alive Duration (S)', 'Connection Point', 'Total Load/Rate',\n",
              "       'Total Load/Latest', 'Unknown Load/Rate', 'Unknown Load/Latest',\n",
              "       'Latest bytes counter', 'Active Flow Entries', 'Packets Looked Up',\n",
              "       'Packets Matched'],\n",
              "      dtype='object')"
            ]
          },
          "metadata": {},
          "execution_count": 13
        }
      ]
    },
    {
      "cell_type": "code",
      "source": [
        "const_columns = [column for column in X.columns\n",
        "                 if column not in X.columns[var_th.get_support()]]\n",
        "print(len(const_columns))"
      ],
      "metadata": {
        "colab": {
          "base_uri": "https://localhost:8080/"
        },
        "id": "RfUkX2djeuTw",
        "outputId": "f76454d0-f2c7-41f3-fbc2-5a11020b1665"
      },
      "execution_count": 14,
      "outputs": [
        {
          "output_type": "stream",
          "name": "stdout",
          "text": [
            "10\n"
          ]
        }
      ]
    },
    {
      "cell_type": "code",
      "source": [
        "for features in const_columns:\n",
        "  print(features)"
      ],
      "metadata": {
        "colab": {
          "base_uri": "https://localhost:8080/"
        },
        "id": "yjHSw5i4fo4w",
        "outputId": "4cffd3d4-7ce7-49e0-d271-7600dde64e29"
      },
      "execution_count": 15,
      "outputs": [
        {
          "output_type": "stream",
          "name": "stdout",
          "text": [
            "Packets Rx Dropped\n",
            "Packets Tx Dropped\n",
            "Packets Rx Errors\n",
            "Packets Tx Errors\n",
            "Delta Packets Rx Dropped\n",
            " Delta Packets Tx Dropped\n",
            "Delta Packets Rx Errors\n",
            "Delta Packets Tx Errors\n",
            "Table ID\n",
            "Max Size\n"
          ]
        }
      ]
    },
    {
      "cell_type": "code",
      "source": [
        "X.drop(const_columns, axis = 1)"
      ],
      "metadata": {
        "colab": {
          "base_uri": "https://localhost:8080/",
          "height": 557
        },
        "id": "U1Qfs4zIgABw",
        "outputId": "77c2e573-89fe-43b9-e9b4-9228519b9687"
      },
      "execution_count": 16,
      "outputs": [
        {
          "output_type": "execute_result",
          "data": {
            "text/plain": [
              "       Received Packets  Received Bytes  Sent Bytes  Sent Packets  \\\n",
              "0                   127           16674     6417048          2097   \n",
              "1                  1401          189318     6512839          1867   \n",
              "2                   945        25239432     6343725           635   \n",
              "3                   125            8723     6318419           288   \n",
              "4                   144           19522       19606           146   \n",
              "...                 ...             ...         ...           ...   \n",
              "37406               926        25229606    12665757          1001   \n",
              "37407              2626        19136918    25410215          2357   \n",
              "37408               864        12642244    38956322        245484   \n",
              "37409               652        18928771       27015           260   \n",
              "37410              3010        75675177    50748263          4399   \n",
              "\n",
              "       Port alive Duration (S)  Delta Received Packets  Delta Received Bytes  \\\n",
              "0                          131                       6                   829   \n",
              "1                         2072                       4                   556   \n",
              "2                          146                       4                   556   \n",
              "3                          116                       0                     0   \n",
              "4                          166                       4                   556   \n",
              "...                        ...                     ...                   ...   \n",
              "37406                      266                       0                     0   \n",
              "37407                     1786                       4                   556   \n",
              "37408                      985                      62                  4088   \n",
              "37409                      161                       2                   278   \n",
              "37410                     2527                       0                     0   \n",
              "\n",
              "       Delta Sent Bytes  Delta Sent Packets  Delta Port alive Duration (S)  \\\n",
              "0                  5893                 100                              5   \n",
              "1                  4998                  71                              4   \n",
              "2                   556                   4                              4   \n",
              "3                   598                   5                              4   \n",
              "4                   556                   4                              4   \n",
              "...                 ...                 ...                            ...   \n",
              "37406               278                   2                              5   \n",
              "37407               556                   4                              5   \n",
              "37408           3415074                 104                              4   \n",
              "37409               278                   2                              5   \n",
              "37410               278                   2                              5   \n",
              "\n",
              "       Connection Point  Total Load/Rate  Total Load/Latest  \\\n",
              "0                     2              480              96282   \n",
              "1                     1                0                  0   \n",
              "2                     2              702               7021   \n",
              "3                     1                0                  0   \n",
              "4                     1                0                  0   \n",
              "...                 ...              ...                ...   \n",
              "37406                 1                0                  0   \n",
              "37407                 3                0                  0   \n",
              "37408                 1           288895           12606923   \n",
              "37409                 4                0                  0   \n",
              "37410                 1                0                  0   \n",
              "\n",
              "       Unknown Load/Rate  Unknown Load/Latest  Latest bytes counter  \\\n",
              "0                    480                96282                   480   \n",
              "1                      0                    0                     0   \n",
              "2                    702                 7021                   702   \n",
              "3                      0                    0                     0   \n",
              "4                      0                    0                     0   \n",
              "...                  ...                  ...                   ...   \n",
              "37406                  0                    0                     0   \n",
              "37407                  0                    0                     0   \n",
              "37408             288895             12606923                288895   \n",
              "37409                  0                    0                     0   \n",
              "37410                  0                    0                     0   \n",
              "\n",
              "       Active Flow Entries  Packets Looked Up  Packets Matched  \n",
              "0                        6               2672             2558  \n",
              "1                      505               7872             7736  \n",
              "2                        5               1814             1698  \n",
              "3                        6                937              849  \n",
              "4                        8               7246             7134  \n",
              "...                    ...                ...              ...  \n",
              "37406                    6             135423           135360  \n",
              "37407                    6              11272            11152  \n",
              "37408                    8             644344           644225  \n",
              "37409                    6               1866             1772  \n",
              "37410                    4              18220            18085  \n",
              "\n",
              "[37411 rows x 19 columns]"
            ],
            "text/html": [
              "\n",
              "  <div id=\"df-51a90e8d-8a9d-406b-adf0-e52126fb5d60\">\n",
              "    <div class=\"colab-df-container\">\n",
              "      <div>\n",
              "<style scoped>\n",
              "    .dataframe tbody tr th:only-of-type {\n",
              "        vertical-align: middle;\n",
              "    }\n",
              "\n",
              "    .dataframe tbody tr th {\n",
              "        vertical-align: top;\n",
              "    }\n",
              "\n",
              "    .dataframe thead th {\n",
              "        text-align: right;\n",
              "    }\n",
              "</style>\n",
              "<table border=\"1\" class=\"dataframe\">\n",
              "  <thead>\n",
              "    <tr style=\"text-align: right;\">\n",
              "      <th></th>\n",
              "      <th>Received Packets</th>\n",
              "      <th>Received Bytes</th>\n",
              "      <th>Sent Bytes</th>\n",
              "      <th>Sent Packets</th>\n",
              "      <th>Port alive Duration (S)</th>\n",
              "      <th>Delta Received Packets</th>\n",
              "      <th>Delta Received Bytes</th>\n",
              "      <th>Delta Sent Bytes</th>\n",
              "      <th>Delta Sent Packets</th>\n",
              "      <th>Delta Port alive Duration (S)</th>\n",
              "      <th>Connection Point</th>\n",
              "      <th>Total Load/Rate</th>\n",
              "      <th>Total Load/Latest</th>\n",
              "      <th>Unknown Load/Rate</th>\n",
              "      <th>Unknown Load/Latest</th>\n",
              "      <th>Latest bytes counter</th>\n",
              "      <th>Active Flow Entries</th>\n",
              "      <th>Packets Looked Up</th>\n",
              "      <th>Packets Matched</th>\n",
              "    </tr>\n",
              "  </thead>\n",
              "  <tbody>\n",
              "    <tr>\n",
              "      <th>0</th>\n",
              "      <td>127</td>\n",
              "      <td>16674</td>\n",
              "      <td>6417048</td>\n",
              "      <td>2097</td>\n",
              "      <td>131</td>\n",
              "      <td>6</td>\n",
              "      <td>829</td>\n",
              "      <td>5893</td>\n",
              "      <td>100</td>\n",
              "      <td>5</td>\n",
              "      <td>2</td>\n",
              "      <td>480</td>\n",
              "      <td>96282</td>\n",
              "      <td>480</td>\n",
              "      <td>96282</td>\n",
              "      <td>480</td>\n",
              "      <td>6</td>\n",
              "      <td>2672</td>\n",
              "      <td>2558</td>\n",
              "    </tr>\n",
              "    <tr>\n",
              "      <th>1</th>\n",
              "      <td>1401</td>\n",
              "      <td>189318</td>\n",
              "      <td>6512839</td>\n",
              "      <td>1867</td>\n",
              "      <td>2072</td>\n",
              "      <td>4</td>\n",
              "      <td>556</td>\n",
              "      <td>4998</td>\n",
              "      <td>71</td>\n",
              "      <td>4</td>\n",
              "      <td>1</td>\n",
              "      <td>0</td>\n",
              "      <td>0</td>\n",
              "      <td>0</td>\n",
              "      <td>0</td>\n",
              "      <td>0</td>\n",
              "      <td>505</td>\n",
              "      <td>7872</td>\n",
              "      <td>7736</td>\n",
              "    </tr>\n",
              "    <tr>\n",
              "      <th>2</th>\n",
              "      <td>945</td>\n",
              "      <td>25239432</td>\n",
              "      <td>6343725</td>\n",
              "      <td>635</td>\n",
              "      <td>146</td>\n",
              "      <td>4</td>\n",
              "      <td>556</td>\n",
              "      <td>556</td>\n",
              "      <td>4</td>\n",
              "      <td>4</td>\n",
              "      <td>2</td>\n",
              "      <td>702</td>\n",
              "      <td>7021</td>\n",
              "      <td>702</td>\n",
              "      <td>7021</td>\n",
              "      <td>702</td>\n",
              "      <td>5</td>\n",
              "      <td>1814</td>\n",
              "      <td>1698</td>\n",
              "    </tr>\n",
              "    <tr>\n",
              "      <th>3</th>\n",
              "      <td>125</td>\n",
              "      <td>8723</td>\n",
              "      <td>6318419</td>\n",
              "      <td>288</td>\n",
              "      <td>116</td>\n",
              "      <td>0</td>\n",
              "      <td>0</td>\n",
              "      <td>598</td>\n",
              "      <td>5</td>\n",
              "      <td>4</td>\n",
              "      <td>1</td>\n",
              "      <td>0</td>\n",
              "      <td>0</td>\n",
              "      <td>0</td>\n",
              "      <td>0</td>\n",
              "      <td>0</td>\n",
              "      <td>6</td>\n",
              "      <td>937</td>\n",
              "      <td>849</td>\n",
              "    </tr>\n",
              "    <tr>\n",
              "      <th>4</th>\n",
              "      <td>144</td>\n",
              "      <td>19522</td>\n",
              "      <td>19606</td>\n",
              "      <td>146</td>\n",
              "      <td>166</td>\n",
              "      <td>4</td>\n",
              "      <td>556</td>\n",
              "      <td>556</td>\n",
              "      <td>4</td>\n",
              "      <td>4</td>\n",
              "      <td>1</td>\n",
              "      <td>0</td>\n",
              "      <td>0</td>\n",
              "      <td>0</td>\n",
              "      <td>0</td>\n",
              "      <td>0</td>\n",
              "      <td>8</td>\n",
              "      <td>7246</td>\n",
              "      <td>7134</td>\n",
              "    </tr>\n",
              "    <tr>\n",
              "      <th>...</th>\n",
              "      <td>...</td>\n",
              "      <td>...</td>\n",
              "      <td>...</td>\n",
              "      <td>...</td>\n",
              "      <td>...</td>\n",
              "      <td>...</td>\n",
              "      <td>...</td>\n",
              "      <td>...</td>\n",
              "      <td>...</td>\n",
              "      <td>...</td>\n",
              "      <td>...</td>\n",
              "      <td>...</td>\n",
              "      <td>...</td>\n",
              "      <td>...</td>\n",
              "      <td>...</td>\n",
              "      <td>...</td>\n",
              "      <td>...</td>\n",
              "      <td>...</td>\n",
              "      <td>...</td>\n",
              "    </tr>\n",
              "    <tr>\n",
              "      <th>37406</th>\n",
              "      <td>926</td>\n",
              "      <td>25229606</td>\n",
              "      <td>12665757</td>\n",
              "      <td>1001</td>\n",
              "      <td>266</td>\n",
              "      <td>0</td>\n",
              "      <td>0</td>\n",
              "      <td>278</td>\n",
              "      <td>2</td>\n",
              "      <td>5</td>\n",
              "      <td>1</td>\n",
              "      <td>0</td>\n",
              "      <td>0</td>\n",
              "      <td>0</td>\n",
              "      <td>0</td>\n",
              "      <td>0</td>\n",
              "      <td>6</td>\n",
              "      <td>135423</td>\n",
              "      <td>135360</td>\n",
              "    </tr>\n",
              "    <tr>\n",
              "      <th>37407</th>\n",
              "      <td>2626</td>\n",
              "      <td>19136918</td>\n",
              "      <td>25410215</td>\n",
              "      <td>2357</td>\n",
              "      <td>1786</td>\n",
              "      <td>4</td>\n",
              "      <td>556</td>\n",
              "      <td>556</td>\n",
              "      <td>4</td>\n",
              "      <td>5</td>\n",
              "      <td>3</td>\n",
              "      <td>0</td>\n",
              "      <td>0</td>\n",
              "      <td>0</td>\n",
              "      <td>0</td>\n",
              "      <td>0</td>\n",
              "      <td>6</td>\n",
              "      <td>11272</td>\n",
              "      <td>11152</td>\n",
              "    </tr>\n",
              "    <tr>\n",
              "      <th>37408</th>\n",
              "      <td>864</td>\n",
              "      <td>12642244</td>\n",
              "      <td>38956322</td>\n",
              "      <td>245484</td>\n",
              "      <td>985</td>\n",
              "      <td>62</td>\n",
              "      <td>4088</td>\n",
              "      <td>3415074</td>\n",
              "      <td>104</td>\n",
              "      <td>4</td>\n",
              "      <td>1</td>\n",
              "      <td>288895</td>\n",
              "      <td>12606923</td>\n",
              "      <td>288895</td>\n",
              "      <td>12606923</td>\n",
              "      <td>288895</td>\n",
              "      <td>8</td>\n",
              "      <td>644344</td>\n",
              "      <td>644225</td>\n",
              "    </tr>\n",
              "    <tr>\n",
              "      <th>37409</th>\n",
              "      <td>652</td>\n",
              "      <td>18928771</td>\n",
              "      <td>27015</td>\n",
              "      <td>260</td>\n",
              "      <td>161</td>\n",
              "      <td>2</td>\n",
              "      <td>278</td>\n",
              "      <td>278</td>\n",
              "      <td>2</td>\n",
              "      <td>5</td>\n",
              "      <td>4</td>\n",
              "      <td>0</td>\n",
              "      <td>0</td>\n",
              "      <td>0</td>\n",
              "      <td>0</td>\n",
              "      <td>0</td>\n",
              "      <td>6</td>\n",
              "      <td>1866</td>\n",
              "      <td>1772</td>\n",
              "    </tr>\n",
              "    <tr>\n",
              "      <th>37410</th>\n",
              "      <td>3010</td>\n",
              "      <td>75675177</td>\n",
              "      <td>50748263</td>\n",
              "      <td>4399</td>\n",
              "      <td>2527</td>\n",
              "      <td>0</td>\n",
              "      <td>0</td>\n",
              "      <td>278</td>\n",
              "      <td>2</td>\n",
              "      <td>5</td>\n",
              "      <td>1</td>\n",
              "      <td>0</td>\n",
              "      <td>0</td>\n",
              "      <td>0</td>\n",
              "      <td>0</td>\n",
              "      <td>0</td>\n",
              "      <td>4</td>\n",
              "      <td>18220</td>\n",
              "      <td>18085</td>\n",
              "    </tr>\n",
              "  </tbody>\n",
              "</table>\n",
              "<p>37411 rows × 19 columns</p>\n",
              "</div>\n",
              "      <button class=\"colab-df-convert\" onclick=\"convertToInteractive('df-51a90e8d-8a9d-406b-adf0-e52126fb5d60')\"\n",
              "              title=\"Convert this dataframe to an interactive table.\"\n",
              "              style=\"display:none;\">\n",
              "        \n",
              "  <svg xmlns=\"http://www.w3.org/2000/svg\" height=\"24px\"viewBox=\"0 0 24 24\"\n",
              "       width=\"24px\">\n",
              "    <path d=\"M0 0h24v24H0V0z\" fill=\"none\"/>\n",
              "    <path d=\"M18.56 5.44l.94 2.06.94-2.06 2.06-.94-2.06-.94-.94-2.06-.94 2.06-2.06.94zm-11 1L8.5 8.5l.94-2.06 2.06-.94-2.06-.94L8.5 2.5l-.94 2.06-2.06.94zm10 10l.94 2.06.94-2.06 2.06-.94-2.06-.94-.94-2.06-.94 2.06-2.06.94z\"/><path d=\"M17.41 7.96l-1.37-1.37c-.4-.4-.92-.59-1.43-.59-.52 0-1.04.2-1.43.59L10.3 9.45l-7.72 7.72c-.78.78-.78 2.05 0 2.83L4 21.41c.39.39.9.59 1.41.59.51 0 1.02-.2 1.41-.59l7.78-7.78 2.81-2.81c.8-.78.8-2.07 0-2.86zM5.41 20L4 18.59l7.72-7.72 1.47 1.35L5.41 20z\"/>\n",
              "  </svg>\n",
              "      </button>\n",
              "      \n",
              "  <style>\n",
              "    .colab-df-container {\n",
              "      display:flex;\n",
              "      flex-wrap:wrap;\n",
              "      gap: 12px;\n",
              "    }\n",
              "\n",
              "    .colab-df-convert {\n",
              "      background-color: #E8F0FE;\n",
              "      border: none;\n",
              "      border-radius: 50%;\n",
              "      cursor: pointer;\n",
              "      display: none;\n",
              "      fill: #1967D2;\n",
              "      height: 32px;\n",
              "      padding: 0 0 0 0;\n",
              "      width: 32px;\n",
              "    }\n",
              "\n",
              "    .colab-df-convert:hover {\n",
              "      background-color: #E2EBFA;\n",
              "      box-shadow: 0px 1px 2px rgba(60, 64, 67, 0.3), 0px 1px 3px 1px rgba(60, 64, 67, 0.15);\n",
              "      fill: #174EA6;\n",
              "    }\n",
              "\n",
              "    [theme=dark] .colab-df-convert {\n",
              "      background-color: #3B4455;\n",
              "      fill: #D2E3FC;\n",
              "    }\n",
              "\n",
              "    [theme=dark] .colab-df-convert:hover {\n",
              "      background-color: #434B5C;\n",
              "      box-shadow: 0px 1px 3px 1px rgba(0, 0, 0, 0.15);\n",
              "      filter: drop-shadow(0px 1px 2px rgba(0, 0, 0, 0.3));\n",
              "      fill: #FFFFFF;\n",
              "    }\n",
              "  </style>\n",
              "\n",
              "      <script>\n",
              "        const buttonEl =\n",
              "          document.querySelector('#df-51a90e8d-8a9d-406b-adf0-e52126fb5d60 button.colab-df-convert');\n",
              "        buttonEl.style.display =\n",
              "          google.colab.kernel.accessAllowed ? 'block' : 'none';\n",
              "\n",
              "        async function convertToInteractive(key) {\n",
              "          const element = document.querySelector('#df-51a90e8d-8a9d-406b-adf0-e52126fb5d60');\n",
              "          const dataTable =\n",
              "            await google.colab.kernel.invokeFunction('convertToInteractive',\n",
              "                                                     [key], {});\n",
              "          if (!dataTable) return;\n",
              "\n",
              "          const docLinkHtml = 'Like what you see? Visit the ' +\n",
              "            '<a target=\"_blank\" href=https://colab.research.google.com/notebooks/data_table.ipynb>data table notebook</a>'\n",
              "            + ' to learn more about interactive tables.';\n",
              "          element.innerHTML = '';\n",
              "          dataTable['output_type'] = 'display_data';\n",
              "          await google.colab.output.renderOutput(dataTable, element);\n",
              "          const docLink = document.createElement('div');\n",
              "          docLink.innerHTML = docLinkHtml;\n",
              "          element.appendChild(docLink);\n",
              "        }\n",
              "      </script>\n",
              "    </div>\n",
              "  </div>\n",
              "  "
            ]
          },
          "metadata": {},
          "execution_count": 16
        }
      ]
    },
    {
      "cell_type": "markdown",
      "source": [
        "setting Y values as integer..."
      ],
      "metadata": {
        "id": "b648I9q49-hw"
      }
    },
    {
      "cell_type": "code",
      "execution_count": 17,
      "metadata": {
        "id": "w7lAgc_AxghE"
      },
      "outputs": [],
      "source": [
        "Y = Y.astype('int')"
      ]
    },
    {
      "cell_type": "code",
      "execution_count": 18,
      "metadata": {
        "colab": {
          "base_uri": "https://localhost:8080/"
        },
        "id": "_I0_SEcvAk_g",
        "outputId": "d932a80c-5790-4ec9-ab37-8b36c306bd9c"
      },
      "outputs": [
        {
          "output_type": "stream",
          "name": "stdout",
          "text": [
            "       Received Packets  Received Bytes  Sent Bytes  Sent Packets  \\\n",
            "0                   127           16674     6417048          2097   \n",
            "1                  1401          189318     6512839          1867   \n",
            "2                   945        25239432     6343725           635   \n",
            "3                   125            8723     6318419           288   \n",
            "4                   144           19522       19606           146   \n",
            "...                 ...             ...         ...           ...   \n",
            "37406               926        25229606    12665757          1001   \n",
            "37407              2626        19136918    25410215          2357   \n",
            "37408               864        12642244    38956322        245484   \n",
            "37409               652        18928771       27015           260   \n",
            "37410              3010        75675177    50748263          4399   \n",
            "\n",
            "       Port alive Duration (S)  Packets Rx Dropped  Packets Tx Dropped  \\\n",
            "0                          131                   0                   0   \n",
            "1                         2072                   0                   0   \n",
            "2                          146                   0                   0   \n",
            "3                          116                   0                   0   \n",
            "4                          166                   0                   0   \n",
            "...                        ...                 ...                 ...   \n",
            "37406                      266                   0                   0   \n",
            "37407                     1786                   0                   0   \n",
            "37408                      985                   0                   0   \n",
            "37409                      161                   0                   0   \n",
            "37410                     2527                   0                   0   \n",
            "\n",
            "       Packets Rx Errors  Packets Tx Errors  Delta Received Packets  ...  \\\n",
            "0                      0                  0                       6  ...   \n",
            "1                      0                  0                       4  ...   \n",
            "2                      0                  0                       4  ...   \n",
            "3                      0                  0                       0  ...   \n",
            "4                      0                  0                       4  ...   \n",
            "...                  ...                ...                     ...  ...   \n",
            "37406                  0                  0                       0  ...   \n",
            "37407                  0                  0                       4  ...   \n",
            "37408                  0                  0                      62  ...   \n",
            "37409                  0                  0                       2  ...   \n",
            "37410                  0                  0                       0  ...   \n",
            "\n",
            "       Total Load/Rate  Total Load/Latest  Unknown Load/Rate  \\\n",
            "0                  480              96282                480   \n",
            "1                    0                  0                  0   \n",
            "2                  702               7021                702   \n",
            "3                    0                  0                  0   \n",
            "4                    0                  0                  0   \n",
            "...                ...                ...                ...   \n",
            "37406                0                  0                  0   \n",
            "37407                0                  0                  0   \n",
            "37408           288895           12606923             288895   \n",
            "37409                0                  0                  0   \n",
            "37410                0                  0                  0   \n",
            "\n",
            "       Unknown Load/Latest  Latest bytes counter  Table ID  \\\n",
            "0                    96282                   480         0   \n",
            "1                        0                     0         0   \n",
            "2                     7021                   702         0   \n",
            "3                        0                     0         0   \n",
            "4                        0                     0         0   \n",
            "...                    ...                   ...       ...   \n",
            "37406                    0                     0         0   \n",
            "37407                    0                     0         0   \n",
            "37408             12606923                288895         0   \n",
            "37409                    0                     0         0   \n",
            "37410                    0                     0         0   \n",
            "\n",
            "       Active Flow Entries  Packets Looked Up  Packets Matched  Max Size  \n",
            "0                        6               2672             2558        -1  \n",
            "1                      505               7872             7736        -1  \n",
            "2                        5               1814             1698        -1  \n",
            "3                        6                937              849        -1  \n",
            "4                        8               7246             7134        -1  \n",
            "...                    ...                ...              ...       ...  \n",
            "37406                    6             135423           135360        -1  \n",
            "37407                    6              11272            11152        -1  \n",
            "37408                    8             644344           644225        -1  \n",
            "37409                    6               1866             1772        -1  \n",
            "37410                    4              18220            18085        -1  \n",
            "\n",
            "[37411 rows x 29 columns]\n"
          ]
        }
      ],
      "source": [
        "print(X)\n"
      ]
    },
    {
      "cell_type": "code",
      "execution_count": 19,
      "metadata": {
        "colab": {
          "base_uri": "https://localhost:8080/"
        },
        "id": "v2bfv_b9CAhl",
        "outputId": "f3ac8049-725c-41f3-bd86-69a75619ff51"
      },
      "outputs": [
        {
          "output_type": "stream",
          "name": "stdout",
          "text": [
            "0        0\n",
            "1        1\n",
            "2        0\n",
            "3        5\n",
            "4        0\n",
            "        ..\n",
            "37406    5\n",
            "37407    1\n",
            "37408    4\n",
            "37409    5\n",
            "37410    1\n",
            "Name: Actual Label, Length: 37411, dtype: int64\n"
          ]
        }
      ],
      "source": [
        "print(Y)"
      ]
    },
    {
      "cell_type": "markdown",
      "source": [
        "Loding dataset into X_train,X_test, Y_train, Y_test..."
      ],
      "metadata": {
        "id": "OXwaiB8t-Rwd"
      }
    },
    {
      "cell_type": "code",
      "execution_count": 20,
      "metadata": {
        "id": "OIlt46r1FblC"
      },
      "outputs": [],
      "source": [
        "X_train,X_test, Y_train, Y_test = train_test_split(X,Y,test_size=.2, random_state=15000) "
      ]
    },
    {
      "cell_type": "code",
      "execution_count": 21,
      "metadata": {
        "colab": {
          "base_uri": "https://localhost:8080/"
        },
        "id": "GwQ2HZ1CrYzj",
        "outputId": "1d3f9933-b78f-4594-d49b-a742af614a4a"
      },
      "outputs": [
        {
          "output_type": "execute_result",
          "data": {
            "text/plain": [
              "((29928, 29), (7483, 29), (29928,), (7483,))"
            ]
          },
          "metadata": {},
          "execution_count": 21
        }
      ],
      "source": [
        "X_train.shape,X_test.shape, Y_train.shape, Y_test.shape"
      ]
    },
    {
      "cell_type": "code",
      "execution_count": 22,
      "metadata": {
        "colab": {
          "base_uri": "https://localhost:8080/"
        },
        "id": "pmYY5IibJKHp",
        "outputId": "a08e9d1c-86df-4dd4-f259-5f8db61508ca"
      },
      "outputs": [
        {
          "output_type": "stream",
          "name": "stdout",
          "text": [
            "       Received Packets  Received Bytes  Sent Bytes  Sent Packets  \\\n",
            "10474              1912          260416   120131487          6756   \n",
            "34021              2132        56770122    31814430          3551   \n",
            "32247              3192        44338180    74525533          4202   \n",
            "18169              4107        63269775    63271234          4154   \n",
            "30474               681        12648091       38795           291   \n",
            "...                 ...             ...         ...           ...   \n",
            "2536                791        12651798       37770           339   \n",
            "19476              1154        12701974     6467428           784   \n",
            "6424                399         6319013    12634581           607   \n",
            "19668               573        12600098       15357           114   \n",
            "19743               110           14995       14785           105   \n",
            "\n",
            "       Port alive Duration (S)  Packets Rx Dropped  Packets Tx Dropped  \\\n",
            "10474                     2836                   0                   0   \n",
            "34021                     2507                   0                   0   \n",
            "32247                     1716                   0                   0   \n",
            "18169                     1546                   0                   0   \n",
            "30474                      386                   0                   0   \n",
            "...                        ...                 ...                 ...   \n",
            "2536                       276                   0                   0   \n",
            "19476                      181                   0                   0   \n",
            "6424                       176                   0                   0   \n",
            "19668                      121                   0                   0   \n",
            "19743                      121                   0                   0   \n",
            "\n",
            "       Packets Rx Errors  Packets Tx Errors  Delta Received Packets  ...  \\\n",
            "10474                  0                  0                       2  ...   \n",
            "34021                  0                  0                       0  ...   \n",
            "32247                  0                  0                       4  ...   \n",
            "18169                  0                  0                       2  ...   \n",
            "30474                  0                  0                       4  ...   \n",
            "...                  ...                ...                     ...  ...   \n",
            "2536                   0                  0                      78  ...   \n",
            "19476                  0                  0                       4  ...   \n",
            "6424                   0                  0                       0  ...   \n",
            "19668                  0                  0                       4  ...   \n",
            "19743                  0                  0                       2  ...   \n",
            "\n",
            "       Total Load/Rate  Total Load/Latest  Unknown Load/Rate  \\\n",
            "10474                0                  0                  0   \n",
            "34021                0                  0                  0   \n",
            "32247                0                  0                  0   \n",
            "18169                0                  0                  0   \n",
            "30474                0                  0                  0   \n",
            "...                ...                ...                ...   \n",
            "2536                 0                  0                  0   \n",
            "19476              648               9133                648   \n",
            "6424                 0                  0                  0   \n",
            "19668                0                  0                  0   \n",
            "19743                0                  0                  0   \n",
            "\n",
            "       Unknown Load/Latest  Latest bytes counter  Table ID  \\\n",
            "10474                    0                     0         0   \n",
            "34021                    0                     0         0   \n",
            "32247                    0                     0         0   \n",
            "18169                    0                     0         0   \n",
            "30474                    0                     0         0   \n",
            "...                    ...                   ...       ...   \n",
            "2536                     0                     0         0   \n",
            "19476                 9133                   648         0   \n",
            "6424                     0                     0         0   \n",
            "19668                    0                     0         0   \n",
            "19743                    0                     0         0   \n",
            "\n",
            "       Active Flow Entries  Packets Looked Up  Packets Matched  Max Size  \n",
            "10474                    5              23912            23773        -1  \n",
            "34021                    4              12498            12373        -1  \n",
            "32247                    7              10824            10699        -1  \n",
            "18169                    4              12094            11963        -1  \n",
            "30474                    4               2239             2121        -1  \n",
            "...                    ...                ...              ...       ...  \n",
            "2536                     5               2249             2133        -1  \n",
            "19476                    8               2699             2598        -1  \n",
            "6424                     6               2164             2067        -1  \n",
            "19668                    5                891              801        -1  \n",
            "19743                    8               2547             2456        -1  \n",
            "\n",
            "[29928 rows x 29 columns]\n"
          ]
        }
      ],
      "source": [
        "print(X_train)"
      ]
    },
    {
      "cell_type": "markdown",
      "source": [
        "Loading DecisionTreeClassifier model and fitting training dataset to the model...\n",
        "Here we use DecisionTreeClassifier because we have to predict multi classes..."
      ],
      "metadata": {
        "id": "zBbs5aHA-hR5"
      }
    },
    {
      "cell_type": "code",
      "execution_count": 23,
      "metadata": {
        "colab": {
          "base_uri": "https://localhost:8080/"
        },
        "id": "aXr1j4BUIF3g",
        "outputId": "ff3cab43-03e0-4ca1-fa04-ac21d43afff6"
      },
      "outputs": [
        {
          "output_type": "execute_result",
          "data": {
            "text/plain": [
              "DecisionTreeClassifier()"
            ]
          },
          "metadata": {},
          "execution_count": 23
        }
      ],
      "source": [
        "classifier = DecisionTreeClassifier()\n",
        "classifier.fit(X_train, Y_train)  "
      ]
    },
    {
      "cell_type": "markdown",
      "source": [
        "Predicting Y label with traing data..."
      ],
      "metadata": {
        "id": "gvFaILe1_rCN"
      }
    },
    {
      "cell_type": "code",
      "execution_count": 24,
      "metadata": {
        "id": "c4zFeWDufBE4"
      },
      "outputs": [],
      "source": [
        "prediction_on_training_data = classifier.predict(X_train)\n",
        "accuracy_on_training_data = accuracy_score(Y_train, prediction_on_training_data)"
      ]
    },
    {
      "cell_type": "markdown",
      "source": [
        "Cheking training data accuracy..."
      ],
      "metadata": {
        "id": "nQ2OyoUi_5SR"
      }
    },
    {
      "cell_type": "code",
      "source": [
        "print(accuracy_on_training_data)"
      ],
      "metadata": {
        "colab": {
          "base_uri": "https://localhost:8080/"
        },
        "id": "ub9Z0doCoApO",
        "outputId": "c4262b7b-270c-43d8-8d97-a07ce0a0b536"
      },
      "execution_count": 25,
      "outputs": [
        {
          "output_type": "stream",
          "name": "stdout",
          "text": [
            "1.0\n"
          ]
        }
      ]
    },
    {
      "cell_type": "markdown",
      "source": [],
      "metadata": {
        "id": "2MbRlBM2ADRJ"
      }
    },
    {
      "cell_type": "markdown",
      "source": [
        "Predicting Y label with test data..."
      ],
      "metadata": {
        "id": "h44rG7ARAhWV"
      }
    },
    {
      "cell_type": "code",
      "source": [
        "Y_pred = classifier.predict(X_test)"
      ],
      "metadata": {
        "id": "nF2GyQbCoTrM"
      },
      "execution_count": 26,
      "outputs": []
    },
    {
      "cell_type": "markdown",
      "source": [
        "Checking test data accuracy..."
      ],
      "metadata": {
        "id": "ka8br6XpAl_Q"
      }
    },
    {
      "cell_type": "code",
      "source": [
        "accuracy_on_test_data = accuracy_score(Y_test, Y_pred)"
      ],
      "metadata": {
        "id": "C0wsSwULhNeK"
      },
      "execution_count": 27,
      "outputs": []
    },
    {
      "cell_type": "code",
      "source": [
        "print(accuracy_on_test_data)"
      ],
      "metadata": {
        "colab": {
          "base_uri": "https://localhost:8080/"
        },
        "id": "J1M8ZkEQhPyw",
        "outputId": "fd26a2cc-2dba-400e-e9bc-ad01c181dcdd"
      },
      "execution_count": 28,
      "outputs": [
        {
          "output_type": "stream",
          "name": "stdout",
          "text": [
            "0.9172791661098489\n"
          ]
        }
      ]
    },
    {
      "cell_type": "code",
      "source": [
        "print(Y_test)"
      ],
      "metadata": {
        "colab": {
          "base_uri": "https://localhost:8080/"
        },
        "id": "LklJsx32Vum1",
        "outputId": "db5ab054-85d8-4801-a92b-0cc534008c10"
      },
      "execution_count": 29,
      "outputs": [
        {
          "output_type": "stream",
          "name": "stdout",
          "text": [
            "18533    5\n",
            "34428    5\n",
            "8183     0\n",
            "4124     1\n",
            "14224    2\n",
            "        ..\n",
            "34931    2\n",
            "32271    0\n",
            "4533     4\n",
            "28840    4\n",
            "18280    1\n",
            "Name: Actual Label, Length: 7483, dtype: int64\n"
          ]
        }
      ]
    },
    {
      "cell_type": "code",
      "source": [
        "print(Y_pred)"
      ],
      "metadata": {
        "colab": {
          "base_uri": "https://localhost:8080/"
        },
        "id": "tZSfphZUhdqE",
        "outputId": "13728e82-9dcb-49f4-9850-c354674049a7"
      },
      "execution_count": 30,
      "outputs": [
        {
          "output_type": "stream",
          "name": "stdout",
          "text": [
            "[5 5 0 ... 4 4 1]\n"
          ]
        }
      ]
    },
    {
      "cell_type": "markdown",
      "source": [
        "print unique vaues in Y_test..."
      ],
      "metadata": {
        "id": "201LV5E0AwPv"
      }
    },
    {
      "cell_type": "code",
      "source": [
        "Y_test.unique()"
      ],
      "metadata": {
        "colab": {
          "base_uri": "https://localhost:8080/"
        },
        "id": "LWBkCeyfh-eS",
        "outputId": "67c1c262-fed6-4572-cd35-948085e2fb73"
      },
      "execution_count": 31,
      "outputs": [
        {
          "output_type": "execute_result",
          "data": {
            "text/plain": [
              "array([5, 0, 1, 2, 4, 3])"
            ]
          },
          "metadata": {},
          "execution_count": 31
        }
      ]
    },
    {
      "cell_type": "markdown",
      "source": [
        "Checking prediction value with actual value of test data value..."
      ],
      "metadata": {
        "id": "hpFJ-BSYA3Sj"
      }
    },
    {
      "cell_type": "code",
      "source": [
        "index = int(input())\n",
        "print(Y_pred[index])\n",
        "print(Y_test.iloc[[index]])"
      ],
      "metadata": {
        "colab": {
          "base_uri": "https://localhost:8080/"
        },
        "id": "tkP2lK_LTRxC",
        "outputId": "922389d0-ffd2-49aa-9787-eaeb5d86f728"
      },
      "execution_count": 32,
      "outputs": [
        {
          "output_type": "stream",
          "name": "stdout",
          "text": [
            "6\n",
            "4\n",
            "12232    4\n",
            "Name: Actual Label, dtype: int64\n"
          ]
        }
      ]
    },
    {
      "cell_type": "code",
      "source": [
        "plt.scatter(Y_test,Y_pred)\n",
        "plt.xlabel('Actual Y')\n",
        "plt.ylabel('predicted Y')\n",
        "plt.show()"
      ],
      "metadata": {
        "colab": {
          "base_uri": "https://localhost:8080/",
          "height": 279
        },
        "id": "ruLXUjd3CofK",
        "outputId": "d48c4b7a-fb03-473c-b5b5-e2112cdd7454"
      },
      "execution_count": 33,
      "outputs": [
        {
          "output_type": "display_data",
          "data": {
            "text/plain": [
              "<Figure size 432x288 with 1 Axes>"
            ],
            "image/png": "[encoded data removed]"
          },
          "metadata": {
            "needs_background": "light"
          }
        }
      ]
    },
    {
      "cell_type": "markdown",
      "source": [
        "Confusion matrix for X_test, Y_test..."
      ],
      "metadata": {
        "id": "IyPmYoR1G0a6"
      }
    },
    {
      "cell_type": "code",
      "source": [
        "plot_confusion_matrix(classifier,X_test,Y_test)\n",
        "plt.show()"
      ],
      "metadata": {
        "colab": {
          "base_uri": "https://localhost:8080/",
          "height": 335
        },
        "id": "R02rIVv4FbbF",
        "outputId": "397b3dd8-1f64-4307-9a78-dbf885fc73ab"
      },
      "execution_count": 34,
      "outputs": [
        {
          "output_type": "stream",
          "name": "stderr",
          "text": [
            "/usr/local/lib/python3.7/dist-packages/sklearn/utils/deprecation.py:87: FutureWarning: Function plot_confusion_matrix is deprecated; Function `plot_confusion_matrix` is deprecated in 1.0 and will be removed in 1.2. Use one of the class methods: ConfusionMatrixDisplay.from_predictions or ConfusionMatrixDisplay.from_estimator.\n",
            "  warnings.warn(msg, category=FutureWarning)\n"
          ]
        },
        {
          "output_type": "display_data",
          "data": {
            "text/plain": [
              "<Figure size 432x288 with 2 Axes>"
            ],
            "image/png": "[encoded data removed]"
          },
          "metadata": {
            "needs_background": "light"
          }
        }
      ]
    },
    {
      "cell_type": "markdown",
      "source": [
        "Here index is index value of X_test..."
      ],
      "metadata": {
        "id": "5cnzYBFbKbz1"
      }
    },
    {
      "cell_type": "code",
      "source": [
        "index = int(input())\n",
        "pred_value = Y_pred[index]\n",
        "if pred_value == 0:\n",
        "  print('attack type:'+'TCP-SYN Attack')\n",
        "elif pred_value == 1:\n",
        "  print('attack type:'+'Blackhole Attack')\n",
        "elif pred_value == 2:\n",
        "  print('attack type:'+'Diversion Attack')\n",
        "elif pred_value == 3:\n",
        "  print('attack type:'+'Overflow Attack')\n",
        "elif pred_value == 5:\n",
        "  print('attack type:'+'portscan Attack')\n",
        "else:\n",
        "  print('attack type:'+'Normal')"
      ],
      "metadata": {
        "id": "gO2wUfr0jQ56",
        "colab": {
          "base_uri": "https://localhost:8080/"
        },
        "outputId": "1d6f96c7-1ada-461a-93e6-ab4c08cfcac6"
      },
      "execution_count": 35,
      "outputs": [
        {
          "output_type": "stream",
          "name": "stdout",
          "text": [
            "55\n",
            "attack type:TCP-SYN Attack\n"
          ]
        }
      ]
    }
  ],
  "metadata": {
    "colab": {
      "provenance": [],
      "mount_file_id": "1sH-bzGir0NKndgYFbBcj2_JmnRXtfcLu",
      "authorship_tag": "ABX9TyMCuabAE6QnJMIuENf4qyyw",
      "include_colab_link": true
    },
    "kernelspec": {
      "display_name": "Python 3",
      "name": "python3"
    },
    "language_info": {
      "name": "python"
    },
    "gpuClass": "standard"
  },
  "nbformat": 4,
  "nbformat_minor": 0
}