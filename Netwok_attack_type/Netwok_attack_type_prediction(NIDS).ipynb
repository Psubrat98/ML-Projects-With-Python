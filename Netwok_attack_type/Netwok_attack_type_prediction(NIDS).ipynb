{
  "cells": [
    {
      "cell_type": "markdown",
      "metadata": {
        "id": "view-in-github",
        "colab_type": "text"
      },
      "source": [
        "<a href=\"https://colab.research.google.com/github/Psubrat98/ML-Projects-With-Python/blob/main/Netwok_attack_type_prediction(NIDS).ipynb\" target=\"_parent\"><img src=\"https://colab.research.google.com/assets/colab-badge.svg\" alt=\"Open In Colab\"/></a>"
      ]
    },
    {
      "cell_type": "markdown",
      "source": [
        "# **`Network Intrusion Detection System(NIDS)`**"
      ],
      "metadata": {
        "id": "nVCvLEC3kDgX"
      }
    },
    {
      "cell_type": "markdown",
      "source": [
        "**INTRUDUCTION:**\n",
        "\n",
        "Network-based intrusion detection systems (NIDS) are devices intelligently distributed within networks that passively inspect traffic traversing the devices on which they sit. NIDS can be hardware or software-based systems and, depending on the manufacturer of the system, can attach to various network mediums such as Ethernet, FDDI, and others. Oftentimes, NIDS have two network interfaces. One is used for listening to network conversations in promiscuous mode and the other is used for control and reporting.\n",
        "\n",
        "With the advent of switching, which isolates unicast conversations to ingress and egress switch ports, network infrastructure vendors have devised port-mirroring techniques to replicate all network traffic to the NIDS. There are other means of supplying traffic to the IDS such as network taps. Cisco uses Switched Port Analyzer (SPAN) functionality to facilitate this capability on their network devices and, in some network equipment, includes NIDS components directly within the switch."
      ],
      "metadata": {
        "id": "dlfxBMqBnmLE"
      }
    },
    {
      "cell_type": "markdown",
      "source": [
        "**DATA COLLECTION:**\n",
        "\n",
        "The collected dataset is called **UNR-IDD Intrusion Detection Dataset** from Kaggle.\n",
        "\n",
        "Tapadhir Das, Osama Abu Hamdan, Raj Mani Shukla, Shamik Sengupta, and Engin Arslan UNR-IDD: Intrusion Detection Dataset using Network Port Statistics, In 2023 IEEE Consumer Communications and Networking Conference (CCNC).\n",
        "\n",
        "MORE COMPREHENSIVE INFORMATION CAN BE LOCATED AT THE DATASET WEBPAGE @ \n",
        "https://www.tapadhirdas.com/unr-idd-dataset"
      ],
      "metadata": {
        "id": "Mles7itOpn26"
      }
    },
    {
      "cell_type": "markdown",
      "source": [
        "**Importing required libraries...**"
      ],
      "metadata": {
        "id": "8_ykLTNA6ioI"
      }
    },
    {
      "cell_type": "code",
      "execution_count": 1,
      "metadata": {
        "id": "gJlaljEU0_zr"
      },
      "outputs": [],
      "source": [
        "import numpy as np\n",
        "import matplotlib.pyplot as plt\n",
        "import tensorflow as tf\n",
        "from tensorflow import keras\n",
        "tf.random.set_seed(3)\n",
        "import pandas as pd\n",
        "from sklearn.model_selection import train_test_split\n",
        "from sklearn.feature_selection import VarianceThreshold\n",
        "from sklearn.metrics import plot_confusion_matrix\n",
        "from sklearn.tree import DecisionTreeClassifier\n",
        "from sklearn.metrics import accuracy_score"
      ]
    },
    {
      "cell_type": "markdown",
      "source": [
        "**Loadiing the Dataset from Lab files...**\n",
        "\n"
      ],
      "metadata": {
        "id": "GL4B_hQu6__M"
      }
    },
    {
      "cell_type": "code",
      "execution_count": 2,
      "metadata": {
        "id": "dyxlnTM3322X"
      },
      "outputs": [],
      "source": [
        "data_set = pd.read_csv('/content/UNR-IDD.csv')"
      ]
    },
    {
      "cell_type": "markdown",
      "source": [
        "**Suffling the dataset...**\n",
        "\n",
        "Here the dataset contains regular similar values so we have to suffle the dataset to ensures model is not overfitting to certain pattern duo sort order."
      ],
      "metadata": {
        "id": "dSGcl1JG7NEd"
      }
    },
    {
      "cell_type": "code",
      "source": [
        "data_set = data_set.sample(frac=1).reset_index(drop=True)"
      ],
      "metadata": {
        "id": "-Gh-DqZ142EJ"
      },
      "execution_count": 3,
      "outputs": []
    },
    {
      "cell_type": "code",
      "execution_count": 4,
      "metadata": {
        "colab": {
          "base_uri": "https://localhost:8080/",
          "height": 0
        },
        "id": "AY5PELBd5zQ4",
        "outputId": "d01f3910-82d5-472b-b262-9feaa8a7134a"
      },
      "outputs": [
        {
          "output_type": "stream",
          "name": "stdout",
          "text": [
            "                 Switch ID Port Number  Received Packets  Received Bytes  \\\n",
            "0      of:0000000000000003     Port#:1            316743       101478563   \n",
            "1      of:0000000000000004     Port#:2              2245        12718578   \n",
            "2      of:0000000000000001     Port#:2               785        23253924   \n",
            "3      of:000000000000000c     Port#:1               423           29020   \n",
            "4      of:0000000000000001     Port#:1               157           11013   \n",
            "...                    ...         ...               ...             ...   \n",
            "37406  of:000000000000000c     Port#:4               611         6347429   \n",
            "37407  of:000000000000000c     Port#:2               296         6311948   \n",
            "37408  of:0000000000000004     Port#:2              5112        75954292   \n",
            "37409  of:0000000000000005     Port#:2               249         6313621   \n",
            "37410  of:000000000000000b     Port#:2            185410        26762661   \n",
            "\n",
            "       Sent Bytes  Sent Packets  Port alive Duration (S)  Packets Rx Dropped  \\\n",
            "0        76474386        317930                     2107                   0   \n",
            "1          142335          2344                      126                   0   \n",
            "2         6388548          1042                      582                   0   \n",
            "3        19138042          1562                     1451                   0   \n",
            "4         6359525           629                      562                   0   \n",
            "...           ...           ...                      ...                 ...   \n",
            "37406    18955456           974                      266                   0   \n",
            "37407     6323448           375                       91                   0   \n",
            "37408    94856832          5524                     2457                   0   \n",
            "37409       10273            76                       66                   0   \n",
            "37410    36626497        120379                     1560                   0   \n",
            "\n",
            "       Packets Tx Dropped  Packets Rx Errors  ...  Unknown Load/Latest  \\\n",
            "0                       0                  0  ...                    0   \n",
            "1                       0                  0  ...               102673   \n",
            "2                       0                  0  ...                    0   \n",
            "3                       0                  0  ...                    0   \n",
            "4                       0                  0  ...                    0   \n",
            "...                   ...                ...  ...                  ...   \n",
            "37406                   0                  0  ...                    0   \n",
            "37407                   0                  0  ...                    0   \n",
            "37408                   0                  0  ...                    0   \n",
            "37409                   0                  0  ...                    0   \n",
            "37410                   0                  0  ...                    0   \n",
            "\n",
            "       Latest bytes counter  is_valid  Table ID  Active Flow Entries  \\\n",
            "0                         0      True         0                    6   \n",
            "1                       513      True         0                    8   \n",
            "2                         0      True         0                    8   \n",
            "3                         0      True         0                    4   \n",
            "4                         0      True         0                    4   \n",
            "...                     ...       ...       ...                  ...   \n",
            "37406                     0      True         0                   10   \n",
            "37407                     0      True         0                   10   \n",
            "37408                     0      True         0                    5   \n",
            "37409                     0      True         0                    4   \n",
            "37410                     0      True         0                    4   \n",
            "\n",
            "       Packets Looked Up  Packets Matched  Max Size      Label  Binary Label  \n",
            "0                 997649           997519        -1     Normal        Normal  \n",
            "1                   4781             4688        -1    TCP-SYN        Attack  \n",
            "2                   3123             3014        -1  Blackhole        Attack  \n",
            "3                   4524             4411        -1   Overflow        Attack  \n",
            "4                   2603             2494        -1  Blackhole        Attack  \n",
            "...                  ...              ...       ...        ...           ...  \n",
            "37406             278463           278355        -1   PortScan        Attack  \n",
            "37407               3164             3073        -1    TCP-SYN        Attack  \n",
            "37408              21647            21408        -1  Diversion        Attack  \n",
            "37409                757              667        -1    TCP-SYN        Attack  \n",
            "37410             511855           511774        -1     Normal        Normal  \n",
            "\n",
            "[37411 rows x 34 columns]\n"
          ]
        }
      ],
      "source": [
        "print(data_set)"
      ]
    },
    {
      "cell_type": "markdown",
      "source": [
        "\n",
        "**Merging required Label and Binary label columns of Dataset to get desire lable column...**"
      ],
      "metadata": {
        "id": "DSMKr4uu7jFz"
      }
    },
    {
      "cell_type": "code",
      "execution_count": 5,
      "metadata": {
        "id": "qd6U4J-WMvRP"
      },
      "outputs": [],
      "source": [
        "data_set['Actual Label'] = data_set['Label']+' '+data_set['Binary Label']"
      ]
    },
    {
      "cell_type": "markdown",
      "source": [
        "**Setiing required out put test values of Actual label column with numerical values...**"
      ],
      "metadata": {
        "id": "dSUSHi4I8obx"
      }
    },
    {
      "cell_type": "code",
      "execution_count": 6,
      "metadata": {
        "id": "WhMbne9l6fIw"
      },
      "outputs": [],
      "source": [
        "data_set.loc[data_set['Actual Label'] == 'TCP-SYN Attack', 'Actual Label',] = 0\n",
        "data_set.loc[data_set['Actual Label'] == 'Blackhole Attack', 'Actual Label',] = 1\n",
        "data_set.loc[data_set['Actual Label'] == 'Diversion Attack', 'Actual Label',] = 2\n",
        "data_set.loc[data_set['Actual Label'] == 'Overflow Attack', 'Actual Label',] = 3\n",
        "data_set.loc[data_set['Actual Label'] == 'Normal Normal', 'Actual Label',] = 4\n",
        "data_set.loc[data_set['Actual Label'] == 'PortScan Attack', 'Actual Label',] = 5"
      ]
    },
    {
      "cell_type": "code",
      "source": [
        "data_set.head()"
      ],
      "metadata": {
        "colab": {
          "base_uri": "https://localhost:8080/",
          "height": 369
        },
        "id": "vo_zMtNQX6bO",
        "outputId": "c862d0a6-1e7a-44b1-dbd0-bebab6383c11"
      },
      "execution_count": 7,
      "outputs": [
        {
          "output_type": "execute_result",
          "data": {
            "text/plain": [
              "             Switch ID Port Number  Received Packets  Received Bytes  \\\n",
              "0  of:0000000000000003     Port#:1            316743       101478563   \n",
              "1  of:0000000000000004     Port#:2              2245        12718578   \n",
              "2  of:0000000000000001     Port#:2               785        23253924   \n",
              "3  of:000000000000000c     Port#:1               423           29020   \n",
              "4  of:0000000000000001     Port#:1               157           11013   \n",
              "\n",
              "   Sent Bytes  Sent Packets  Port alive Duration (S)  Packets Rx Dropped  \\\n",
              "0    76474386        317930                     2107                   0   \n",
              "1      142335          2344                      126                   0   \n",
              "2     6388548          1042                      582                   0   \n",
              "3    19138042          1562                     1451                   0   \n",
              "4     6359525           629                      562                   0   \n",
              "\n",
              "   Packets Tx Dropped  Packets Rx Errors  ...  Latest bytes counter  is_valid  \\\n",
              "0                   0                  0  ...                     0      True   \n",
              "1                   0                  0  ...                   513      True   \n",
              "2                   0                  0  ...                     0      True   \n",
              "3                   0                  0  ...                     0      True   \n",
              "4                   0                  0  ...                     0      True   \n",
              "\n",
              "   Table ID  Active Flow Entries  Packets Looked Up  Packets Matched  \\\n",
              "0         0                    6             997649           997519   \n",
              "1         0                    8               4781             4688   \n",
              "2         0                    8               3123             3014   \n",
              "3         0                    4               4524             4411   \n",
              "4         0                    4               2603             2494   \n",
              "\n",
              "   Max Size      Label  Binary Label  Actual Label  \n",
              "0        -1     Normal        Normal             4  \n",
              "1        -1    TCP-SYN        Attack             0  \n",
              "2        -1  Blackhole        Attack             1  \n",
              "3        -1   Overflow        Attack             3  \n",
              "4        -1  Blackhole        Attack             1  \n",
              "\n",
              "[5 rows x 35 columns]"
            ],
            "text/html": [
              "\n",
              "  <div id=\"df-c36a1779-31aa-46ef-a40f-93c01335fe9d\">\n",
              "    <div class=\"colab-df-container\">\n",
              "      <div>\n",
              "<style scoped>\n",
              "    .dataframe tbody tr th:only-of-type {\n",
              "        vertical-align: middle;\n",
              "    }\n",
              "\n",
              "    .dataframe tbody tr th {\n",
              "        vertical-align: top;\n",
              "    }\n",
              "\n",
              "    .dataframe thead th {\n",
              "        text-align: right;\n",
              "    }\n",
              "</style>\n",
              "<table border=\"1\" class=\"dataframe\">\n",
              "  <thead>\n",
              "    <tr style=\"text-align: right;\">\n",
              "      <th></th>\n",
              "      <th>Switch ID</th>\n",
              "      <th>Port Number</th>\n",
              "      <th>Received Packets</th>\n",
              "      <th>Received Bytes</th>\n",
              "      <th>Sent Bytes</th>\n",
              "      <th>Sent Packets</th>\n",
              "      <th>Port alive Duration (S)</th>\n",
              "      <th>Packets Rx Dropped</th>\n",
              "      <th>Packets Tx Dropped</th>\n",
              "      <th>Packets Rx Errors</th>\n",
              "      <th>...</th>\n",
              "      <th>Latest bytes counter</th>\n",
              "      <th>is_valid</th>\n",
              "      <th>Table ID</th>\n",
              "      <th>Active Flow Entries</th>\n",
              "      <th>Packets Looked Up</th>\n",
              "      <th>Packets Matched</th>\n",
              "      <th>Max Size</th>\n",
              "      <th>Label</th>\n",
              "      <th>Binary Label</th>\n",
              "      <th>Actual Label</th>\n",
              "    </tr>\n",
              "  </thead>\n",
              "  <tbody>\n",
              "    <tr>\n",
              "      <th>0</th>\n",
              "      <td>of:0000000000000003</td>\n",
              "      <td>Port#:1</td>\n",
              "      <td>316743</td>\n",
              "      <td>101478563</td>\n",
              "      <td>76474386</td>\n",
              "      <td>317930</td>\n",
              "      <td>2107</td>\n",
              "      <td>0</td>\n",
              "      <td>0</td>\n",
              "      <td>0</td>\n",
              "      <td>...</td>\n",
              "      <td>0</td>\n",
              "      <td>True</td>\n",
              "      <td>0</td>\n",
              "      <td>6</td>\n",
              "      <td>997649</td>\n",
              "      <td>997519</td>\n",
              "      <td>-1</td>\n",
              "      <td>Normal</td>\n",
              "      <td>Normal</td>\n",
              "      <td>4</td>\n",
              "    </tr>\n",
              "    <tr>\n",
              "      <th>1</th>\n",
              "      <td>of:0000000000000004</td>\n",
              "      <td>Port#:2</td>\n",
              "      <td>2245</td>\n",
              "      <td>12718578</td>\n",
              "      <td>142335</td>\n",
              "      <td>2344</td>\n",
              "      <td>126</td>\n",
              "      <td>0</td>\n",
              "      <td>0</td>\n",
              "      <td>0</td>\n",
              "      <td>...</td>\n",
              "      <td>513</td>\n",
              "      <td>True</td>\n",
              "      <td>0</td>\n",
              "      <td>8</td>\n",
              "      <td>4781</td>\n",
              "      <td>4688</td>\n",
              "      <td>-1</td>\n",
              "      <td>TCP-SYN</td>\n",
              "      <td>Attack</td>\n",
              "      <td>0</td>\n",
              "    </tr>\n",
              "    <tr>\n",
              "      <th>2</th>\n",
              "      <td>of:0000000000000001</td>\n",
              "      <td>Port#:2</td>\n",
              "      <td>785</td>\n",
              "      <td>23253924</td>\n",
              "      <td>6388548</td>\n",
              "      <td>1042</td>\n",
              "      <td>582</td>\n",
              "      <td>0</td>\n",
              "      <td>0</td>\n",
              "      <td>0</td>\n",
              "      <td>...</td>\n",
              "      <td>0</td>\n",
              "      <td>True</td>\n",
              "      <td>0</td>\n",
              "      <td>8</td>\n",
              "      <td>3123</td>\n",
              "      <td>3014</td>\n",
              "      <td>-1</td>\n",
              "      <td>Blackhole</td>\n",
              "      <td>Attack</td>\n",
              "      <td>1</td>\n",
              "    </tr>\n",
              "    <tr>\n",
              "      <th>3</th>\n",
              "      <td>of:000000000000000c</td>\n",
              "      <td>Port#:1</td>\n",
              "      <td>423</td>\n",
              "      <td>29020</td>\n",
              "      <td>19138042</td>\n",
              "      <td>1562</td>\n",
              "      <td>1451</td>\n",
              "      <td>0</td>\n",
              "      <td>0</td>\n",
              "      <td>0</td>\n",
              "      <td>...</td>\n",
              "      <td>0</td>\n",
              "      <td>True</td>\n",
              "      <td>0</td>\n",
              "      <td>4</td>\n",
              "      <td>4524</td>\n",
              "      <td>4411</td>\n",
              "      <td>-1</td>\n",
              "      <td>Overflow</td>\n",
              "      <td>Attack</td>\n",
              "      <td>3</td>\n",
              "    </tr>\n",
              "    <tr>\n",
              "      <th>4</th>\n",
              "      <td>of:0000000000000001</td>\n",
              "      <td>Port#:1</td>\n",
              "      <td>157</td>\n",
              "      <td>11013</td>\n",
              "      <td>6359525</td>\n",
              "      <td>629</td>\n",
              "      <td>562</td>\n",
              "      <td>0</td>\n",
              "      <td>0</td>\n",
              "      <td>0</td>\n",
              "      <td>...</td>\n",
              "      <td>0</td>\n",
              "      <td>True</td>\n",
              "      <td>0</td>\n",
              "      <td>4</td>\n",
              "      <td>2603</td>\n",
              "      <td>2494</td>\n",
              "      <td>-1</td>\n",
              "      <td>Blackhole</td>\n",
              "      <td>Attack</td>\n",
              "      <td>1</td>\n",
              "    </tr>\n",
              "  </tbody>\n",
              "</table>\n",
              "<p>5 rows × 35 columns</p>\n",
              "</div>\n",
              "      <button class=\"colab-df-convert\" onclick=\"convertToInteractive('df-c36a1779-31aa-46ef-a40f-93c01335fe9d')\"\n",
              "              title=\"Convert this dataframe to an interactive table.\"\n",
              "              style=\"display:none;\">\n",
              "        \n",
              "  <svg xmlns=\"http://www.w3.org/2000/svg\" height=\"24px\"viewBox=\"0 0 24 24\"\n",
              "       width=\"24px\">\n",
              "    <path d=\"M0 0h24v24H0V0z\" fill=\"none\"/>\n",
              "    <path d=\"M18.56 5.44l.94 2.06.94-2.06 2.06-.94-2.06-.94-.94-2.06-.94 2.06-2.06.94zm-11 1L8.5 8.5l.94-2.06 2.06-.94-2.06-.94L8.5 2.5l-.94 2.06-2.06.94zm10 10l.94 2.06.94-2.06 2.06-.94-2.06-.94-.94-2.06-.94 2.06-2.06.94z\"/><path d=\"M17.41 7.96l-1.37-1.37c-.4-.4-.92-.59-1.43-.59-.52 0-1.04.2-1.43.59L10.3 9.45l-7.72 7.72c-.78.78-.78 2.05 0 2.83L4 21.41c.39.39.9.59 1.41.59.51 0 1.02-.2 1.41-.59l7.78-7.78 2.81-2.81c.8-.78.8-2.07 0-2.86zM5.41 20L4 18.59l7.72-7.72 1.47 1.35L5.41 20z\"/>\n",
              "  </svg>\n",
              "      </button>\n",
              "      \n",
              "  <style>\n",
              "    .colab-df-container {\n",
              "      display:flex;\n",
              "      flex-wrap:wrap;\n",
              "      gap: 12px;\n",
              "    }\n",
              "\n",
              "    .colab-df-convert {\n",
              "      background-color: #E8F0FE;\n",
              "      border: none;\n",
              "      border-radius: 50%;\n",
              "      cursor: pointer;\n",
              "      display: none;\n",
              "      fill: #1967D2;\n",
              "      height: 32px;\n",
              "      padding: 0 0 0 0;\n",
              "      width: 32px;\n",
              "    }\n",
              "\n",
              "    .colab-df-convert:hover {\n",
              "      background-color: #E2EBFA;\n",
              "      box-shadow: 0px 1px 2px rgba(60, 64, 67, 0.3), 0px 1px 3px 1px rgba(60, 64, 67, 0.15);\n",
              "      fill: #174EA6;\n",
              "    }\n",
              "\n",
              "    [theme=dark] .colab-df-convert {\n",
              "      background-color: #3B4455;\n",
              "      fill: #D2E3FC;\n",
              "    }\n",
              "\n",
              "    [theme=dark] .colab-df-convert:hover {\n",
              "      background-color: #434B5C;\n",
              "      box-shadow: 0px 1px 3px 1px rgba(0, 0, 0, 0.15);\n",
              "      filter: drop-shadow(0px 1px 2px rgba(0, 0, 0, 0.3));\n",
              "      fill: #FFFFFF;\n",
              "    }\n",
              "  </style>\n",
              "\n",
              "      <script>\n",
              "        const buttonEl =\n",
              "          document.querySelector('#df-c36a1779-31aa-46ef-a40f-93c01335fe9d button.colab-df-convert');\n",
              "        buttonEl.style.display =\n",
              "          google.colab.kernel.accessAllowed ? 'block' : 'none';\n",
              "\n",
              "        async function convertToInteractive(key) {\n",
              "          const element = document.querySelector('#df-c36a1779-31aa-46ef-a40f-93c01335fe9d');\n",
              "          const dataTable =\n",
              "            await google.colab.kernel.invokeFunction('convertToInteractive',\n",
              "                                                     [key], {});\n",
              "          if (!dataTable) return;\n",
              "\n",
              "          const docLinkHtml = 'Like what you see? Visit the ' +\n",
              "            '<a target=\"_blank\" href=https://colab.research.google.com/notebooks/data_table.ipynb>data table notebook</a>'\n",
              "            + ' to learn more about interactive tables.';\n",
              "          element.innerHTML = '';\n",
              "          dataTable['output_type'] = 'display_data';\n",
              "          await google.colab.output.renderOutput(dataTable, element);\n",
              "          const docLink = document.createElement('div');\n",
              "          docLink.innerHTML = docLinkHtml;\n",
              "          element.appendChild(docLink);\n",
              "        }\n",
              "      </script>\n",
              "    </div>\n",
              "  </div>\n",
              "  "
            ]
          },
          "metadata": {},
          "execution_count": 7
        }
      ]
    },
    {
      "cell_type": "markdown",
      "source": [
        "# Data Cleaning:"
      ],
      "metadata": {
        "id": "1TDynz3xvxS2"
      }
    },
    {
      "cell_type": "markdown",
      "source": [
        "**Loading dataset in X & Y by droping features containing test values...**"
      ],
      "metadata": {
        "id": "znJWceC69VsW"
      }
    },
    {
      "cell_type": "code",
      "execution_count": 8,
      "metadata": {
        "id": "vUl4L7U7_0RP"
      },
      "outputs": [],
      "source": [
        "X = data_set.drop(['Switch ID','Port Number','is_valid','Label','Binary Label', 'Actual Label'], axis =1)\n",
        "Y = data_set['Actual Label']"
      ]
    },
    {
      "cell_type": "markdown",
      "source": [
        "**Removing the unwanted features from datset by using variance_thresold method...**"
      ],
      "metadata": {
        "id": "muPXZZQU9lmD"
      }
    },
    {
      "cell_type": "code",
      "source": [
        "var_th = VarianceThreshold(threshold = 0)\n",
        "var_th.fit(X)"
      ],
      "metadata": {
        "colab": {
          "base_uri": "https://localhost:8080/",
          "height": 0
        },
        "id": "xOqddeXud1fM",
        "outputId": "a5fe5346-14d9-4f07-9886-ec7f4920f105"
      },
      "execution_count": 9,
      "outputs": [
        {
          "output_type": "execute_result",
          "data": {
            "text/plain": [
              "VarianceThreshold(threshold=0)"
            ]
          },
          "metadata": {},
          "execution_count": 9
        }
      ]
    },
    {
      "cell_type": "code",
      "source": [
        "var_th.get_support()"
      ],
      "metadata": {
        "colab": {
          "base_uri": "https://localhost:8080/",
          "height": 0
        },
        "id": "2XKTJMhceKo3",
        "outputId": "6b348644-eb55-47fa-bf09-f42d0f450abd"
      },
      "execution_count": 10,
      "outputs": [
        {
          "output_type": "execute_result",
          "data": {
            "text/plain": [
              "array([ True,  True,  True,  True,  True, False, False, False, False,\n",
              "        True,  True,  True,  True,  True, False, False, False, False,\n",
              "        True,  True,  True,  True,  True,  True, False,  True,  True,\n",
              "        True, False])"
            ]
          },
          "metadata": {},
          "execution_count": 10
        }
      ]
    },
    {
      "cell_type": "code",
      "source": [
        "X.columns[var_th.get_support()]"
      ],
      "metadata": {
        "colab": {
          "base_uri": "https://localhost:8080/",
          "height": 0
        },
        "id": "-o3v40rseYOy",
        "outputId": "9e2dceb3-ce92-44b0-f0cd-b20d02283b16"
      },
      "execution_count": 11,
      "outputs": [
        {
          "output_type": "execute_result",
          "data": {
            "text/plain": [
              "Index(['Received Packets', 'Received Bytes', 'Sent Bytes', 'Sent Packets',\n",
              "       'Port alive Duration (S)', 'Delta Received Packets',\n",
              "       'Delta Received Bytes', 'Delta Sent Bytes', 'Delta Sent Packets',\n",
              "       'Delta Port alive Duration (S)', 'Connection Point', 'Total Load/Rate',\n",
              "       'Total Load/Latest', 'Unknown Load/Rate', 'Unknown Load/Latest',\n",
              "       'Latest bytes counter', 'Active Flow Entries', 'Packets Looked Up',\n",
              "       'Packets Matched'],\n",
              "      dtype='object')"
            ]
          },
          "metadata": {},
          "execution_count": 11
        }
      ]
    },
    {
      "cell_type": "code",
      "source": [
        "const_columns = [column for column in X.columns\n",
        "                 if column not in X.columns[var_th.get_support()]]\n",
        "print(len(const_columns))"
      ],
      "metadata": {
        "colab": {
          "base_uri": "https://localhost:8080/",
          "height": 0
        },
        "id": "RfUkX2djeuTw",
        "outputId": "9ab4ecb9-cc9e-4524-d5b3-8164df60894d"
      },
      "execution_count": 12,
      "outputs": [
        {
          "output_type": "stream",
          "name": "stdout",
          "text": [
            "10\n"
          ]
        }
      ]
    },
    {
      "cell_type": "code",
      "source": [
        "for features in const_columns:\n",
        "  print(features)"
      ],
      "metadata": {
        "colab": {
          "base_uri": "https://localhost:8080/",
          "height": 0
        },
        "id": "yjHSw5i4fo4w",
        "outputId": "c349af5c-52e2-4f00-c2a2-593b1ae2ed6e"
      },
      "execution_count": 13,
      "outputs": [
        {
          "output_type": "stream",
          "name": "stdout",
          "text": [
            "Packets Rx Dropped\n",
            "Packets Tx Dropped\n",
            "Packets Rx Errors\n",
            "Packets Tx Errors\n",
            "Delta Packets Rx Dropped\n",
            " Delta Packets Tx Dropped\n",
            "Delta Packets Rx Errors\n",
            "Delta Packets Tx Errors\n",
            "Table ID\n",
            "Max Size\n"
          ]
        }
      ]
    },
    {
      "cell_type": "code",
      "source": [
        "X.drop(const_columns, axis = 1)"
      ],
      "metadata": {
        "colab": {
          "base_uri": "https://localhost:8080/",
          "height": 557
        },
        "id": "U1Qfs4zIgABw",
        "outputId": "061e7c03-0ede-474c-83bf-677c927b7209"
      },
      "execution_count": 14,
      "outputs": [
        {
          "output_type": "execute_result",
          "data": {
            "text/plain": [
              "       Received Packets  Received Bytes  Sent Bytes  Sent Packets  \\\n",
              "0                316743       101478563    76474386        317930   \n",
              "1                  2245        12718578      142335          2344   \n",
              "2                   785        23253924     6388548          1042   \n",
              "3                   423           29020    19138042          1562   \n",
              "4                   157           11013     6359525           629   \n",
              "...                 ...             ...         ...           ...   \n",
              "37406               611         6347429    18955456           974   \n",
              "37407               296         6311948     6323448           375   \n",
              "37408              5112        75954292    94856832          5524   \n",
              "37409               249         6313621       10273            76   \n",
              "37410            185410        26762661    36626497        120379   \n",
              "\n",
              "       Port alive Duration (S)  Delta Received Packets  Delta Received Bytes  \\\n",
              "0                         2107                       0                     0   \n",
              "1                          126                      98                  5632   \n",
              "2                          582                     118               4333378   \n",
              "3                         1451                       0                     0   \n",
              "4                          562                       0                     0   \n",
              "...                        ...                     ...                   ...   \n",
              "37406                      266                       2                   278   \n",
              "37407                       91                      56               1970049   \n",
              "37408                     2457                       4                   556   \n",
              "37409                       66                       5                   759   \n",
              "37410                     1560                       4                   560   \n",
              "\n",
              "       Delta Sent Bytes  Delta Sent Packets  Delta Port alive Duration (S)  \\\n",
              "0                   556                   4                              5   \n",
              "1                  5632                  98                              5   \n",
              "2                  5922                  85                              5   \n",
              "3                   560                   4                              5   \n",
              "4                   556                   4                              5   \n",
              "...                 ...                 ...                            ...   \n",
              "37406               280                   2                              5   \n",
              "37407              3279                  41                              4   \n",
              "37408               556                   4                              5   \n",
              "37409               759                   5                              4   \n",
              "37410               560                   4                              5   \n",
              "\n",
              "       Connection Point  Total Load/Rate  Total Load/Latest  \\\n",
              "0                     1                0                  0   \n",
              "1                     2              513             102673   \n",
              "2                     2                0                  0   \n",
              "3                     1                0                  0   \n",
              "4                     1                0                  0   \n",
              "...                 ...              ...                ...   \n",
              "37406                 4                0                  0   \n",
              "37407                 2                0                  0   \n",
              "37408                 3                0                  0   \n",
              "37409                 2                0                  0   \n",
              "37410                 2                0                  0   \n",
              "\n",
              "       Unknown Load/Rate  Unknown Load/Latest  Latest bytes counter  \\\n",
              "0                      0                    0                     0   \n",
              "1                    513               102673                   513   \n",
              "2                      0                    0                     0   \n",
              "3                      0                    0                     0   \n",
              "4                      0                    0                     0   \n",
              "...                  ...                  ...                   ...   \n",
              "37406                  0                    0                     0   \n",
              "37407                  0                    0                     0   \n",
              "37408                  0                    0                     0   \n",
              "37409                  0                    0                     0   \n",
              "37410                  0                    0                     0   \n",
              "\n",
              "       Active Flow Entries  Packets Looked Up  Packets Matched  \n",
              "0                        6             997649           997519  \n",
              "1                        8               4781             4688  \n",
              "2                        8               3123             3014  \n",
              "3                        4               4524             4411  \n",
              "4                        4               2603             2494  \n",
              "...                    ...                ...              ...  \n",
              "37406                   10             278463           278355  \n",
              "37407                   10               3164             3073  \n",
              "37408                    5              21647            21408  \n",
              "37409                    4                757              667  \n",
              "37410                    4             511855           511774  \n",
              "\n",
              "[37411 rows x 19 columns]"
            ],
            "text/html": [
              "\n",
              "  <div id=\"df-3887e149-1b60-46a1-8256-3547d52ccbb1\">\n",
              "    <div class=\"colab-df-container\">\n",
              "      <div>\n",
              "<style scoped>\n",
              "    .dataframe tbody tr th:only-of-type {\n",
              "        vertical-align: middle;\n",
              "    }\n",
              "\n",
              "    .dataframe tbody tr th {\n",
              "        vertical-align: top;\n",
              "    }\n",
              "\n",
              "    .dataframe thead th {\n",
              "        text-align: right;\n",
              "    }\n",
              "</style>\n",
              "<table border=\"1\" class=\"dataframe\">\n",
              "  <thead>\n",
              "    <tr style=\"text-align: right;\">\n",
              "      <th></th>\n",
              "      <th>Received Packets</th>\n",
              "      <th>Received Bytes</th>\n",
              "      <th>Sent Bytes</th>\n",
              "      <th>Sent Packets</th>\n",
              "      <th>Port alive Duration (S)</th>\n",
              "      <th>Delta Received Packets</th>\n",
              "      <th>Delta Received Bytes</th>\n",
              "      <th>Delta Sent Bytes</th>\n",
              "      <th>Delta Sent Packets</th>\n",
              "      <th>Delta Port alive Duration (S)</th>\n",
              "      <th>Connection Point</th>\n",
              "      <th>Total Load/Rate</th>\n",
              "      <th>Total Load/Latest</th>\n",
              "      <th>Unknown Load/Rate</th>\n",
              "      <th>Unknown Load/Latest</th>\n",
              "      <th>Latest bytes counter</th>\n",
              "      <th>Active Flow Entries</th>\n",
              "      <th>Packets Looked Up</th>\n",
              "      <th>Packets Matched</th>\n",
              "    </tr>\n",
              "  </thead>\n",
              "  <tbody>\n",
              "    <tr>\n",
              "      <th>0</th>\n",
              "      <td>316743</td>\n",
              "      <td>101478563</td>\n",
              "      <td>76474386</td>\n",
              "      <td>317930</td>\n",
              "      <td>2107</td>\n",
              "      <td>0</td>\n",
              "      <td>0</td>\n",
              "      <td>556</td>\n",
              "      <td>4</td>\n",
              "      <td>5</td>\n",
              "      <td>1</td>\n",
              "      <td>0</td>\n",
              "      <td>0</td>\n",
              "      <td>0</td>\n",
              "      <td>0</td>\n",
              "      <td>0</td>\n",
              "      <td>6</td>\n",
              "      <td>997649</td>\n",
              "      <td>997519</td>\n",
              "    </tr>\n",
              "    <tr>\n",
              "      <th>1</th>\n",
              "      <td>2245</td>\n",
              "      <td>12718578</td>\n",
              "      <td>142335</td>\n",
              "      <td>2344</td>\n",
              "      <td>126</td>\n",
              "      <td>98</td>\n",
              "      <td>5632</td>\n",
              "      <td>5632</td>\n",
              "      <td>98</td>\n",
              "      <td>5</td>\n",
              "      <td>2</td>\n",
              "      <td>513</td>\n",
              "      <td>102673</td>\n",
              "      <td>513</td>\n",
              "      <td>102673</td>\n",
              "      <td>513</td>\n",
              "      <td>8</td>\n",
              "      <td>4781</td>\n",
              "      <td>4688</td>\n",
              "    </tr>\n",
              "    <tr>\n",
              "      <th>2</th>\n",
              "      <td>785</td>\n",
              "      <td>23253924</td>\n",
              "      <td>6388548</td>\n",
              "      <td>1042</td>\n",
              "      <td>582</td>\n",
              "      <td>118</td>\n",
              "      <td>4333378</td>\n",
              "      <td>5922</td>\n",
              "      <td>85</td>\n",
              "      <td>5</td>\n",
              "      <td>2</td>\n",
              "      <td>0</td>\n",
              "      <td>0</td>\n",
              "      <td>0</td>\n",
              "      <td>0</td>\n",
              "      <td>0</td>\n",
              "      <td>8</td>\n",
              "      <td>3123</td>\n",
              "      <td>3014</td>\n",
              "    </tr>\n",
              "    <tr>\n",
              "      <th>3</th>\n",
              "      <td>423</td>\n",
              "      <td>29020</td>\n",
              "      <td>19138042</td>\n",
              "      <td>1562</td>\n",
              "      <td>1451</td>\n",
              "      <td>0</td>\n",
              "      <td>0</td>\n",
              "      <td>560</td>\n",
              "      <td>4</td>\n",
              "      <td>5</td>\n",
              "      <td>1</td>\n",
              "      <td>0</td>\n",
              "      <td>0</td>\n",
              "      <td>0</td>\n",
              "      <td>0</td>\n",
              "      <td>0</td>\n",
              "      <td>4</td>\n",
              "      <td>4524</td>\n",
              "      <td>4411</td>\n",
              "    </tr>\n",
              "    <tr>\n",
              "      <th>4</th>\n",
              "      <td>157</td>\n",
              "      <td>11013</td>\n",
              "      <td>6359525</td>\n",
              "      <td>629</td>\n",
              "      <td>562</td>\n",
              "      <td>0</td>\n",
              "      <td>0</td>\n",
              "      <td>556</td>\n",
              "      <td>4</td>\n",
              "      <td>5</td>\n",
              "      <td>1</td>\n",
              "      <td>0</td>\n",
              "      <td>0</td>\n",
              "      <td>0</td>\n",
              "      <td>0</td>\n",
              "      <td>0</td>\n",
              "      <td>4</td>\n",
              "      <td>2603</td>\n",
              "      <td>2494</td>\n",
              "    </tr>\n",
              "    <tr>\n",
              "      <th>...</th>\n",
              "      <td>...</td>\n",
              "      <td>...</td>\n",
              "      <td>...</td>\n",
              "      <td>...</td>\n",
              "      <td>...</td>\n",
              "      <td>...</td>\n",
              "      <td>...</td>\n",
              "      <td>...</td>\n",
              "      <td>...</td>\n",
              "      <td>...</td>\n",
              "      <td>...</td>\n",
              "      <td>...</td>\n",
              "      <td>...</td>\n",
              "      <td>...</td>\n",
              "      <td>...</td>\n",
              "      <td>...</td>\n",
              "      <td>...</td>\n",
              "      <td>...</td>\n",
              "      <td>...</td>\n",
              "    </tr>\n",
              "    <tr>\n",
              "      <th>37406</th>\n",
              "      <td>611</td>\n",
              "      <td>6347429</td>\n",
              "      <td>18955456</td>\n",
              "      <td>974</td>\n",
              "      <td>266</td>\n",
              "      <td>2</td>\n",
              "      <td>278</td>\n",
              "      <td>280</td>\n",
              "      <td>2</td>\n",
              "      <td>5</td>\n",
              "      <td>4</td>\n",
              "      <td>0</td>\n",
              "      <td>0</td>\n",
              "      <td>0</td>\n",
              "      <td>0</td>\n",
              "      <td>0</td>\n",
              "      <td>10</td>\n",
              "      <td>278463</td>\n",
              "      <td>278355</td>\n",
              "    </tr>\n",
              "    <tr>\n",
              "      <th>37407</th>\n",
              "      <td>296</td>\n",
              "      <td>6311948</td>\n",
              "      <td>6323448</td>\n",
              "      <td>375</td>\n",
              "      <td>91</td>\n",
              "      <td>56</td>\n",
              "      <td>1970049</td>\n",
              "      <td>3279</td>\n",
              "      <td>41</td>\n",
              "      <td>4</td>\n",
              "      <td>2</td>\n",
              "      <td>0</td>\n",
              "      <td>0</td>\n",
              "      <td>0</td>\n",
              "      <td>0</td>\n",
              "      <td>0</td>\n",
              "      <td>10</td>\n",
              "      <td>3164</td>\n",
              "      <td>3073</td>\n",
              "    </tr>\n",
              "    <tr>\n",
              "      <th>37408</th>\n",
              "      <td>5112</td>\n",
              "      <td>75954292</td>\n",
              "      <td>94856832</td>\n",
              "      <td>5524</td>\n",
              "      <td>2457</td>\n",
              "      <td>4</td>\n",
              "      <td>556</td>\n",
              "      <td>556</td>\n",
              "      <td>4</td>\n",
              "      <td>5</td>\n",
              "      <td>3</td>\n",
              "      <td>0</td>\n",
              "      <td>0</td>\n",
              "      <td>0</td>\n",
              "      <td>0</td>\n",
              "      <td>0</td>\n",
              "      <td>5</td>\n",
              "      <td>21647</td>\n",
              "      <td>21408</td>\n",
              "    </tr>\n",
              "    <tr>\n",
              "      <th>37409</th>\n",
              "      <td>249</td>\n",
              "      <td>6313621</td>\n",
              "      <td>10273</td>\n",
              "      <td>76</td>\n",
              "      <td>66</td>\n",
              "      <td>5</td>\n",
              "      <td>759</td>\n",
              "      <td>759</td>\n",
              "      <td>5</td>\n",
              "      <td>4</td>\n",
              "      <td>2</td>\n",
              "      <td>0</td>\n",
              "      <td>0</td>\n",
              "      <td>0</td>\n",
              "      <td>0</td>\n",
              "      <td>0</td>\n",
              "      <td>4</td>\n",
              "      <td>757</td>\n",
              "      <td>667</td>\n",
              "    </tr>\n",
              "    <tr>\n",
              "      <th>37410</th>\n",
              "      <td>185410</td>\n",
              "      <td>26762661</td>\n",
              "      <td>36626497</td>\n",
              "      <td>120379</td>\n",
              "      <td>1560</td>\n",
              "      <td>4</td>\n",
              "      <td>560</td>\n",
              "      <td>560</td>\n",
              "      <td>4</td>\n",
              "      <td>5</td>\n",
              "      <td>2</td>\n",
              "      <td>0</td>\n",
              "      <td>0</td>\n",
              "      <td>0</td>\n",
              "      <td>0</td>\n",
              "      <td>0</td>\n",
              "      <td>4</td>\n",
              "      <td>511855</td>\n",
              "      <td>511774</td>\n",
              "    </tr>\n",
              "  </tbody>\n",
              "</table>\n",
              "<p>37411 rows × 19 columns</p>\n",
              "</div>\n",
              "      <button class=\"colab-df-convert\" onclick=\"convertToInteractive('df-3887e149-1b60-46a1-8256-3547d52ccbb1')\"\n",
              "              title=\"Convert this dataframe to an interactive table.\"\n",
              "              style=\"display:none;\">\n",
              "        \n",
              "  <svg xmlns=\"http://www.w3.org/2000/svg\" height=\"24px\"viewBox=\"0 0 24 24\"\n",
              "       width=\"24px\">\n",
              "    <path d=\"M0 0h24v24H0V0z\" fill=\"none\"/>\n",
              "    <path d=\"M18.56 5.44l.94 2.06.94-2.06 2.06-.94-2.06-.94-.94-2.06-.94 2.06-2.06.94zm-11 1L8.5 8.5l.94-2.06 2.06-.94-2.06-.94L8.5 2.5l-.94 2.06-2.06.94zm10 10l.94 2.06.94-2.06 2.06-.94-2.06-.94-.94-2.06-.94 2.06-2.06.94z\"/><path d=\"M17.41 7.96l-1.37-1.37c-.4-.4-.92-.59-1.43-.59-.52 0-1.04.2-1.43.59L10.3 9.45l-7.72 7.72c-.78.78-.78 2.05 0 2.83L4 21.41c.39.39.9.59 1.41.59.51 0 1.02-.2 1.41-.59l7.78-7.78 2.81-2.81c.8-.78.8-2.07 0-2.86zM5.41 20L4 18.59l7.72-7.72 1.47 1.35L5.41 20z\"/>\n",
              "  </svg>\n",
              "      </button>\n",
              "      \n",
              "  <style>\n",
              "    .colab-df-container {\n",
              "      display:flex;\n",
              "      flex-wrap:wrap;\n",
              "      gap: 12px;\n",
              "    }\n",
              "\n",
              "    .colab-df-convert {\n",
              "      background-color: #E8F0FE;\n",
              "      border: none;\n",
              "      border-radius: 50%;\n",
              "      cursor: pointer;\n",
              "      display: none;\n",
              "      fill: #1967D2;\n",
              "      height: 32px;\n",
              "      padding: 0 0 0 0;\n",
              "      width: 32px;\n",
              "    }\n",
              "\n",
              "    .colab-df-convert:hover {\n",
              "      background-color: #E2EBFA;\n",
              "      box-shadow: 0px 1px 2px rgba(60, 64, 67, 0.3), 0px 1px 3px 1px rgba(60, 64, 67, 0.15);\n",
              "      fill: #174EA6;\n",
              "    }\n",
              "\n",
              "    [theme=dark] .colab-df-convert {\n",
              "      background-color: #3B4455;\n",
              "      fill: #D2E3FC;\n",
              "    }\n",
              "\n",
              "    [theme=dark] .colab-df-convert:hover {\n",
              "      background-color: #434B5C;\n",
              "      box-shadow: 0px 1px 3px 1px rgba(0, 0, 0, 0.15);\n",
              "      filter: drop-shadow(0px 1px 2px rgba(0, 0, 0, 0.3));\n",
              "      fill: #FFFFFF;\n",
              "    }\n",
              "  </style>\n",
              "\n",
              "      <script>\n",
              "        const buttonEl =\n",
              "          document.querySelector('#df-3887e149-1b60-46a1-8256-3547d52ccbb1 button.colab-df-convert');\n",
              "        buttonEl.style.display =\n",
              "          google.colab.kernel.accessAllowed ? 'block' : 'none';\n",
              "\n",
              "        async function convertToInteractive(key) {\n",
              "          const element = document.querySelector('#df-3887e149-1b60-46a1-8256-3547d52ccbb1');\n",
              "          const dataTable =\n",
              "            await google.colab.kernel.invokeFunction('convertToInteractive',\n",
              "                                                     [key], {});\n",
              "          if (!dataTable) return;\n",
              "\n",
              "          const docLinkHtml = 'Like what you see? Visit the ' +\n",
              "            '<a target=\"_blank\" href=https://colab.research.google.com/notebooks/data_table.ipynb>data table notebook</a>'\n",
              "            + ' to learn more about interactive tables.';\n",
              "          element.innerHTML = '';\n",
              "          dataTable['output_type'] = 'display_data';\n",
              "          await google.colab.output.renderOutput(dataTable, element);\n",
              "          const docLink = document.createElement('div');\n",
              "          docLink.innerHTML = docLinkHtml;\n",
              "          element.appendChild(docLink);\n",
              "        }\n",
              "      </script>\n",
              "    </div>\n",
              "  </div>\n",
              "  "
            ]
          },
          "metadata": {},
          "execution_count": 14
        }
      ]
    },
    {
      "cell_type": "markdown",
      "source": [
        "**setting Y values as integer...**"
      ],
      "metadata": {
        "id": "b648I9q49-hw"
      }
    },
    {
      "cell_type": "code",
      "execution_count": 15,
      "metadata": {
        "id": "w7lAgc_AxghE"
      },
      "outputs": [],
      "source": [
        "Y = Y.astype('int')"
      ]
    },
    {
      "cell_type": "code",
      "execution_count": 16,
      "metadata": {
        "colab": {
          "base_uri": "https://localhost:8080/",
          "height": 0
        },
        "id": "_I0_SEcvAk_g",
        "outputId": "920d4f50-71a8-4714-81d5-55276bc3c86c"
      },
      "outputs": [
        {
          "output_type": "stream",
          "name": "stdout",
          "text": [
            "       Received Packets  Received Bytes  Sent Bytes  Sent Packets  \\\n",
            "0                316743       101478563    76474386        317930   \n",
            "1                  2245        12718578      142335          2344   \n",
            "2                   785        23253924     6388548          1042   \n",
            "3                   423           29020    19138042          1562   \n",
            "4                   157           11013     6359525           629   \n",
            "...                 ...             ...         ...           ...   \n",
            "37406               611         6347429    18955456           974   \n",
            "37407               296         6311948     6323448           375   \n",
            "37408              5112        75954292    94856832          5524   \n",
            "37409               249         6313621       10273            76   \n",
            "37410            185410        26762661    36626497        120379   \n",
            "\n",
            "       Port alive Duration (S)  Packets Rx Dropped  Packets Tx Dropped  \\\n",
            "0                         2107                   0                   0   \n",
            "1                          126                   0                   0   \n",
            "2                          582                   0                   0   \n",
            "3                         1451                   0                   0   \n",
            "4                          562                   0                   0   \n",
            "...                        ...                 ...                 ...   \n",
            "37406                      266                   0                   0   \n",
            "37407                       91                   0                   0   \n",
            "37408                     2457                   0                   0   \n",
            "37409                       66                   0                   0   \n",
            "37410                     1560                   0                   0   \n",
            "\n",
            "       Packets Rx Errors  Packets Tx Errors  Delta Received Packets  ...  \\\n",
            "0                      0                  0                       0  ...   \n",
            "1                      0                  0                      98  ...   \n",
            "2                      0                  0                     118  ...   \n",
            "3                      0                  0                       0  ...   \n",
            "4                      0                  0                       0  ...   \n",
            "...                  ...                ...                     ...  ...   \n",
            "37406                  0                  0                       2  ...   \n",
            "37407                  0                  0                      56  ...   \n",
            "37408                  0                  0                       4  ...   \n",
            "37409                  0                  0                       5  ...   \n",
            "37410                  0                  0                       4  ...   \n",
            "\n",
            "       Total Load/Rate  Total Load/Latest  Unknown Load/Rate  \\\n",
            "0                    0                  0                  0   \n",
            "1                  513             102673                513   \n",
            "2                    0                  0                  0   \n",
            "3                    0                  0                  0   \n",
            "4                    0                  0                  0   \n",
            "...                ...                ...                ...   \n",
            "37406                0                  0                  0   \n",
            "37407                0                  0                  0   \n",
            "37408                0                  0                  0   \n",
            "37409                0                  0                  0   \n",
            "37410                0                  0                  0   \n",
            "\n",
            "       Unknown Load/Latest  Latest bytes counter  Table ID  \\\n",
            "0                        0                     0         0   \n",
            "1                   102673                   513         0   \n",
            "2                        0                     0         0   \n",
            "3                        0                     0         0   \n",
            "4                        0                     0         0   \n",
            "...                    ...                   ...       ...   \n",
            "37406                    0                     0         0   \n",
            "37407                    0                     0         0   \n",
            "37408                    0                     0         0   \n",
            "37409                    0                     0         0   \n",
            "37410                    0                     0         0   \n",
            "\n",
            "       Active Flow Entries  Packets Looked Up  Packets Matched  Max Size  \n",
            "0                        6             997649           997519        -1  \n",
            "1                        8               4781             4688        -1  \n",
            "2                        8               3123             3014        -1  \n",
            "3                        4               4524             4411        -1  \n",
            "4                        4               2603             2494        -1  \n",
            "...                    ...                ...              ...       ...  \n",
            "37406                   10             278463           278355        -1  \n",
            "37407                   10               3164             3073        -1  \n",
            "37408                    5              21647            21408        -1  \n",
            "37409                    4                757              667        -1  \n",
            "37410                    4             511855           511774        -1  \n",
            "\n",
            "[37411 rows x 29 columns]\n"
          ]
        }
      ],
      "source": [
        "print(X)\n"
      ]
    },
    {
      "cell_type": "code",
      "execution_count": 17,
      "metadata": {
        "colab": {
          "base_uri": "https://localhost:8080/",
          "height": 0
        },
        "id": "v2bfv_b9CAhl",
        "outputId": "3273a281-0657-4afb-dd30-dd82b5fc953f"
      },
      "outputs": [
        {
          "output_type": "stream",
          "name": "stdout",
          "text": [
            "0        4\n",
            "1        0\n",
            "2        1\n",
            "3        3\n",
            "4        1\n",
            "        ..\n",
            "37406    5\n",
            "37407    0\n",
            "37408    2\n",
            "37409    0\n",
            "37410    4\n",
            "Name: Actual Label, Length: 37411, dtype: int64\n"
          ]
        }
      ],
      "source": [
        "print(Y)"
      ]
    },
    {
      "cell_type": "markdown",
      "source": [
        "**Loding dataset into X_train,X_test, Y_train, Y_test...**"
      ],
      "metadata": {
        "id": "OXwaiB8t-Rwd"
      }
    },
    {
      "cell_type": "code",
      "execution_count": 18,
      "metadata": {
        "id": "OIlt46r1FblC"
      },
      "outputs": [],
      "source": [
        "X_train,X_test, Y_train, Y_test = train_test_split(X,Y,test_size=.2, random_state=15000) "
      ]
    },
    {
      "cell_type": "code",
      "execution_count": 19,
      "metadata": {
        "colab": {
          "base_uri": "https://localhost:8080/",
          "height": 0
        },
        "id": "GwQ2HZ1CrYzj",
        "outputId": "44904228-8273-40fa-f417-b6cbe49a3274"
      },
      "outputs": [
        {
          "output_type": "execute_result",
          "data": {
            "text/plain": [
              "((29928, 29), (7483, 29), (29928,), (7483,))"
            ]
          },
          "metadata": {},
          "execution_count": 19
        }
      ],
      "source": [
        "X_train.shape,X_test.shape, Y_train.shape, Y_test.shape"
      ]
    },
    {
      "cell_type": "code",
      "execution_count": 20,
      "metadata": {
        "colab": {
          "base_uri": "https://localhost:8080/",
          "height": 0
        },
        "id": "pmYY5IibJKHp",
        "outputId": "d285797c-1556-4c33-bf4f-1fdd65eef818"
      },
      "outputs": [
        {
          "output_type": "stream",
          "name": "stdout",
          "text": [
            "       Received Packets  Received Bytes  Sent Bytes  Sent Packets  \\\n",
            "10474                81           11255       11575            84   \n",
            "34021               818           44468       54597           889   \n",
            "32247             88685        36231537    11078685         88235   \n",
            "18169               594        12632406       18120           136   \n",
            "30474               144           18778       19056           146   \n",
            "...                 ...             ...         ...           ...   \n",
            "2536              94192        23956047    12641950           706   \n",
            "19476              4410        69605490      250686          1842   \n",
            "6424                114            8028     6312587           243   \n",
            "19668            318020       122406761   114358490        319630   \n",
            "19743                57            7924      601765         11025   \n",
            "\n",
            "       Port alive Duration (S)  Packets Rx Dropped  Packets Tx Dropped  \\\n",
            "10474                       81                   0                   0   \n",
            "34021                       76                   0                   0   \n",
            "32247                      171                   0                   0   \n",
            "18169                      146                   0                   0   \n",
            "30474                      156                   0                   0   \n",
            "...                        ...                 ...                 ...   \n",
            "2536                       181                   0                   0   \n",
            "19476                     2726                   0                   0   \n",
            "6424                        56                   0                   0   \n",
            "19668                     2507                   0                   0   \n",
            "19743                       46                   0                   0   \n",
            "\n",
            "       Packets Rx Errors  Packets Tx Errors  Delta Received Packets  ...  \\\n",
            "10474                  0                  0                       4  ...   \n",
            "34021                  0                  0                      97  ...   \n",
            "32247                  0                  0                    5214  ...   \n",
            "18169                  0                  0                      70  ...   \n",
            "30474                  0                  0                       5  ...   \n",
            "...                  ...                ...                     ...  ...   \n",
            "2536                   0                  0                    5570  ...   \n",
            "19476                  0                  0                       4  ...   \n",
            "6424                   0                  0                      82  ...   \n",
            "19668                  0                  0                      64  ...   \n",
            "19743                  0                  0                       2  ...   \n",
            "\n",
            "       Total Load/Rate  Total Load/Latest  Unknown Load/Rate  \\\n",
            "10474                0                  0                  0   \n",
            "34021              491              42876                491   \n",
            "32247                0                  0                  0   \n",
            "18169                0                  0                  0   \n",
            "30474                0                  0                  0   \n",
            "...                ...                ...                ...   \n",
            "2536                 0                  0                  0   \n",
            "19476                0                  0                  0   \n",
            "6424                 0                  0                  0   \n",
            "19668                0                  0                  0   \n",
            "19743                0                  0                  0   \n",
            "\n",
            "       Unknown Load/Latest  Latest bytes counter  Table ID  \\\n",
            "10474                    0                     0         0   \n",
            "34021                42876                   491         0   \n",
            "32247                    0                     0         0   \n",
            "18169                    0                     0         0   \n",
            "30474                    0                     0         0   \n",
            "...                    ...                   ...       ...   \n",
            "2536                     0                     0         0   \n",
            "19476                    0                     0         0   \n",
            "6424                     0                     0         0   \n",
            "19668                    0                     0         0   \n",
            "19743                    0                     0         0   \n",
            "\n",
            "       Active Flow Entries  Packets Looked Up  Packets Matched  Max Size  \n",
            "10474                    6                835              733        -1  \n",
            "34021                    9               2136             2047        -1  \n",
            "32247                    8             178039           177933        -1  \n",
            "18169                    6               1266             1172        -1  \n",
            "30474                    4               1878             1778        -1  \n",
            "...                    ...                ...              ...       ...  \n",
            "2536                     6              95225            95110        -1  \n",
            "19476                    4              13309            13169        -1  \n",
            "6424                     6                412              362        -1  \n",
            "19668                    9            1004855          1004720        -1  \n",
            "19743                    5              11183            11100        -1  \n",
            "\n",
            "[29928 rows x 29 columns]\n"
          ]
        }
      ],
      "source": [
        "print(X_train)"
      ]
    },
    {
      "cell_type": "markdown",
      "source": [
        "**Loading DecisionTreeClassifier model and fitting training dataset to the model...**\n",
        "\n",
        "Here we use DecisionTreeClassifier because we have to predict multi classes..."
      ],
      "metadata": {
        "id": "zBbs5aHA-hR5"
      }
    },
    {
      "cell_type": "code",
      "execution_count": 21,
      "metadata": {
        "colab": {
          "base_uri": "https://localhost:8080/",
          "height": 0
        },
        "id": "aXr1j4BUIF3g",
        "outputId": "0d16ea99-dbff-4222-d023-d1b0f278d328"
      },
      "outputs": [
        {
          "output_type": "execute_result",
          "data": {
            "text/plain": [
              "DecisionTreeClassifier()"
            ]
          },
          "metadata": {},
          "execution_count": 21
        }
      ],
      "source": [
        "classifier = DecisionTreeClassifier()\n",
        "classifier.fit(X_train, Y_train)  "
      ]
    },
    {
      "cell_type": "markdown",
      "source": [
        "**Predicting Y label with traing data...**"
      ],
      "metadata": {
        "id": "gvFaILe1_rCN"
      }
    },
    {
      "cell_type": "code",
      "execution_count": 22,
      "metadata": {
        "id": "c4zFeWDufBE4"
      },
      "outputs": [],
      "source": [
        "prediction_on_training_data = classifier.predict(X_train)\n",
        "accuracy_on_training_data = accuracy_score(Y_train, prediction_on_training_data)"
      ]
    },
    {
      "cell_type": "markdown",
      "source": [
        "**Cheking training data accuracy...**"
      ],
      "metadata": {
        "id": "nQ2OyoUi_5SR"
      }
    },
    {
      "cell_type": "code",
      "source": [
        "print(accuracy_on_training_data)"
      ],
      "metadata": {
        "colab": {
          "base_uri": "https://localhost:8080/",
          "height": 0
        },
        "id": "ub9Z0doCoApO",
        "outputId": "e92b5bd9-4209-40cb-bfff-72fd62a5f77b"
      },
      "execution_count": 23,
      "outputs": [
        {
          "output_type": "stream",
          "name": "stdout",
          "text": [
            "1.0\n"
          ]
        }
      ]
    },
    {
      "cell_type": "markdown",
      "source": [
        "**Predicting Y label with test data...**"
      ],
      "metadata": {
        "id": "h44rG7ARAhWV"
      }
    },
    {
      "cell_type": "code",
      "source": [
        "Y_pred = classifier.predict(X_test)"
      ],
      "metadata": {
        "id": "nF2GyQbCoTrM"
      },
      "execution_count": 24,
      "outputs": []
    },
    {
      "cell_type": "markdown",
      "source": [
        "**Checking test data accuracy...**"
      ],
      "metadata": {
        "id": "ka8br6XpAl_Q"
      }
    },
    {
      "cell_type": "code",
      "source": [
        "accuracy_on_test_data = accuracy_score(Y_test, Y_pred)"
      ],
      "metadata": {
        "id": "C0wsSwULhNeK"
      },
      "execution_count": 25,
      "outputs": []
    },
    {
      "cell_type": "code",
      "source": [
        "print(accuracy_on_test_data)"
      ],
      "metadata": {
        "colab": {
          "base_uri": "https://localhost:8080/",
          "height": 0
        },
        "id": "J1M8ZkEQhPyw",
        "outputId": "ee59e46b-8aa5-4c09-8f72-e4e32cb039fc"
      },
      "execution_count": 26,
      "outputs": [
        {
          "output_type": "stream",
          "name": "stdout",
          "text": [
            "0.9159428036883602\n"
          ]
        }
      ]
    },
    {
      "cell_type": "code",
      "source": [
        "print(Y_test)"
      ],
      "metadata": {
        "colab": {
          "base_uri": "https://localhost:8080/",
          "height": 0
        },
        "id": "LklJsx32Vum1",
        "outputId": "2f2efcf9-abc9-45e0-a611-236dfb437004"
      },
      "execution_count": 27,
      "outputs": [
        {
          "output_type": "stream",
          "name": "stdout",
          "text": [
            "18533    1\n",
            "34428    1\n",
            "8183     5\n",
            "4124     5\n",
            "14224    5\n",
            "        ..\n",
            "34931    5\n",
            "32271    0\n",
            "4533     5\n",
            "28840    1\n",
            "18280    1\n",
            "Name: Actual Label, Length: 7483, dtype: int64\n"
          ]
        }
      ]
    },
    {
      "cell_type": "code",
      "source": [
        "print(Y_pred)"
      ],
      "metadata": {
        "colab": {
          "base_uri": "https://localhost:8080/",
          "height": 0
        },
        "id": "tZSfphZUhdqE",
        "outputId": "92016d0e-d082-48c0-b5b6-62aa7394bea9"
      },
      "execution_count": 28,
      "outputs": [
        {
          "output_type": "stream",
          "name": "stdout",
          "text": [
            "[1 1 0 ... 5 1 1]\n"
          ]
        }
      ]
    },
    {
      "cell_type": "markdown",
      "source": [
        "**print unique vaues in Y_test...**"
      ],
      "metadata": {
        "id": "201LV5E0AwPv"
      }
    },
    {
      "cell_type": "code",
      "source": [
        "Y_test.unique()"
      ],
      "metadata": {
        "colab": {
          "base_uri": "https://localhost:8080/",
          "height": 0
        },
        "id": "LWBkCeyfh-eS",
        "outputId": "d5486897-b59e-4cef-9edc-d0ec5dc8ad89"
      },
      "execution_count": 29,
      "outputs": [
        {
          "output_type": "execute_result",
          "data": {
            "text/plain": [
              "array([1, 5, 0, 2, 4, 3])"
            ]
          },
          "metadata": {},
          "execution_count": 29
        }
      ]
    },
    {
      "cell_type": "markdown",
      "source": [
        "**Checking prediction value with actual value of test data value...**"
      ],
      "metadata": {
        "id": "hpFJ-BSYA3Sj"
      }
    },
    {
      "cell_type": "code",
      "source": [
        "index = int(input())\n",
        "print(Y_pred[index])\n",
        "print(Y_test.iloc[[index]])"
      ],
      "metadata": {
        "colab": {
          "base_uri": "https://localhost:8080/",
          "height": 0
        },
        "id": "tkP2lK_LTRxC",
        "outputId": "b525aa7a-8dcb-418e-986b-6fc6dce8643b"
      },
      "execution_count": 30,
      "outputs": [
        {
          "output_type": "stream",
          "name": "stdout",
          "text": [
            "0\n",
            "1\n",
            "18533    1\n",
            "Name: Actual Label, dtype: int64\n"
          ]
        }
      ]
    },
    {
      "cell_type": "markdown",
      "source": [
        "**Ploting graph for Actual Y vs Predicted Y:**"
      ],
      "metadata": {
        "id": "-Vzbx5Utx7Vs"
      }
    },
    {
      "cell_type": "code",
      "source": [
        "plt.scatter(Y_test,Y_pred)\n",
        "plt.title('Actual Y vs Predicted Y')\n",
        "plt.xlabel('Actual Y')\n",
        "plt.ylabel('predicted Y')\n",
        "plt.show()"
      ],
      "metadata": {
        "colab": {
          "base_uri": "https://localhost:8080/",
          "height": 295
        },
        "id": "ruLXUjd3CofK",
        "outputId": "8e2802fa-40ec-4846-89a4-650f11c7deb8"
      },
      "execution_count": 32,
      "outputs": [
        {
          "output_type": "display_data",
          "data": {
            "text/plain": [
              "<Figure size 432x288 with 1 Axes>"
            ],
            "image/png": "[encoded data removed]"
          },
          "metadata": {
            "needs_background": "light"
          }
        }
      ]
    },
    {
      "cell_type": "markdown",
      "source": [
        "**Confusion matrix for X_test, Y_pred...**"
      ],
      "metadata": {
        "id": "IyPmYoR1G0a6"
      }
    },
    {
      "cell_type": "code",
      "source": [
        "plot_confusion_matrix(classifier,X_test,Y_pred)\n",
        "plt.show()"
      ],
      "metadata": {
        "colab": {
          "base_uri": "https://localhost:8080/",
          "height": 334
        },
        "id": "R02rIVv4FbbF",
        "outputId": "ff46159e-2781-4ad6-8c59-a36072bdb556"
      },
      "execution_count": 34,
      "outputs": [
        {
          "output_type": "stream",
          "name": "stderr",
          "text": [
            "/usr/local/lib/python3.8/dist-packages/sklearn/utils/deprecation.py:87: FutureWarning: Function plot_confusion_matrix is deprecated; Function `plot_confusion_matrix` is deprecated in 1.0 and will be removed in 1.2. Use one of the class methods: ConfusionMatrixDisplay.from_predictions or ConfusionMatrixDisplay.from_estimator.\n",
            "  warnings.warn(msg, category=FutureWarning)\n"
          ]
        },
        {
          "output_type": "display_data",
          "data": {
            "text/plain": [
              "<Figure size 432x288 with 2 Axes>"
            ],
            "image/png": "[encoded data removed]"
          },
          "metadata": {
            "needs_background": "light"
          }
        }
      ]
    },
    {
      "cell_type": "markdown",
      "source": [
        "**Checking attack type with if condition with row index value of X_test dataset...**"
      ],
      "metadata": {
        "id": "5cnzYBFbKbz1"
      }
    },
    {
      "cell_type": "code",
      "source": [
        "index = int(input())\n",
        "pred_value = Y_pred[index]\n",
        "if pred_value == 0:\n",
        "  print('attack type:'+'TCP-SYN Attack')\n",
        "elif pred_value == 1:\n",
        "  print('attack type:'+'Blackhole Attack')\n",
        "elif pred_value == 2:\n",
        "  print('attack type:'+'Diversion Attack')\n",
        "elif pred_value == 3:\n",
        "  print('attack type:'+'Overflow Attack')\n",
        "elif pred_value == 5:\n",
        "  print('attack type:'+'portscan Attack')\n",
        "else:\n",
        "  print('attack type:'+'Normal')"
      ],
      "metadata": {
        "id": "gO2wUfr0jQ56",
        "colab": {
          "base_uri": "https://localhost:8080/",
          "height": 0
        },
        "outputId": "2610ec3f-91ce-4ad6-cc8d-06f7e19ecb27"
      },
      "execution_count": 35,
      "outputs": [
        {
          "output_type": "stream",
          "name": "stdout",
          "text": [
            "53\n",
            "attack type:portscan Attack\n"
          ]
        }
      ]
    },
    {
      "cell_type": "markdown",
      "source": [
        "**Conclusion:**\n",
        "\n",
        "Model training sucessfully complited with accuracy score 92%."
      ],
      "metadata": {
        "id": "aLdOZ8kE0n5e"
      }
    }
  ],
  "metadata": {
    "colab": {
      "provenance": [],
      "mount_file_id": "1sH-bzGir0NKndgYFbBcj2_JmnRXtfcLu",
      "authorship_tag": "ABX9TyMSvkOWwce2MVs1k61jeF3D",
      "include_colab_link": true
    },
    "kernelspec": {
      "display_name": "Python 3",
      "name": "python3"
    },
    "language_info": {
      "name": "python"
    },
    "gpuClass": "standard"
  },
  "nbformat": 4,
  "nbformat_minor": 0
}
