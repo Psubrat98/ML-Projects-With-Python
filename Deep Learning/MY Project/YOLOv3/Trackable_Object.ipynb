{
  "nbformat": 4,
  "nbformat_minor": 0,
  "metadata": {
    "colab": {
      "provenance": [],
      "authorship_tag": "ABX9TyOilEmhuf/31uNSiZAcdymq",
      "include_colab_link": true
    },
    "kernelspec": {
      "name": "python3",
      "display_name": "Python 3"
    },
    "language_info": {
      "name": "python"
    }
  },
  "cells": [
    {
      "cell_type": "markdown",
      "metadata": {
        "id": "view-in-github",
        "colab_type": "text"
      },
      "source": [
        "<a href=\"https://colab.research.google.com/github/Psubrat98/ML-Projects-With-Python/blob/main/Deep%20Learning/MY%20Project/YOLOv3/Trackable_Object.ipynb\" target=\"_parent\"><img src=\"https://colab.research.google.com/assets/colab-badge.svg\" alt=\"Open In Colab\"/></a>"
      ]
    },
    {
      "cell_type": "markdown",
      "source": [
        "Creating Trackable Object"
      ],
      "metadata": {
        "id": "AAjFtuslhbxl"
      }
    },
    {
      "cell_type": "code",
      "execution_count": 1,
      "metadata": {
        "id": "w2cJ3MSvhOow"
      },
      "outputs": [],
      "source": [
        "class TrackableObject:\n",
        "  def __init__(self, objectID, centroid):\n",
        "    self.objectID = objectID\n",
        "    self.centroid = [centroid]\n",
        "    self.counted = False"
      ]
    },
    {
      "cell_type": "code",
      "source": [],
      "metadata": {
        "id": "9gKPCkiriRUN"
      },
      "execution_count": null,
      "outputs": []
    }
  ]
}