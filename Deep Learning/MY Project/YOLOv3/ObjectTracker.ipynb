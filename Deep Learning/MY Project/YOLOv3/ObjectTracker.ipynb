{
  "nbformat": 4,
  "nbformat_minor": 0,
  "metadata": {
    "colab": {
      "provenance": [],
      "authorship_tag": "ABX9TyO4Zb47ZafzNlK686nn/LHm",
      "include_colab_link": true
    },
    "kernelspec": {
      "name": "python3",
      "display_name": "Python 3"
    },
    "language_info": {
      "name": "python"
    }
  },
  "cells": [
    {
      "cell_type": "markdown",
      "metadata": {
        "id": "view-in-github",
        "colab_type": "text"
      },
      "source": [
        "<a href=\"https://colab.research.google.com/github/Psubrat98/ML-Projects-With-Python/blob/main/Deep%20Learning/MY%20Project/YOLOv3/ObjectTracker.ipynb\" target=\"_parent\"><img src=\"https://colab.research.google.com/assets/colab-badge.svg\" alt=\"Open In Colab\"/></a>"
      ]
    },
    {
      "cell_type": "markdown",
      "source": [
        "**Creating Centroid Tracker**"
      ],
      "metadata": {
        "id": "KN-3pyKuNkdB"
      }
    },
    {
      "cell_type": "markdown",
      "source": [
        "Importing dependent liabraries"
      ],
      "metadata": {
        "id": "JhLFa_ZSNSy-"
      }
    },
    {
      "cell_type": "code",
      "execution_count": 2,
      "metadata": {
        "id": "t-pOCldYNHM4"
      },
      "outputs": [],
      "source": [
        "from scipy.spatial import distance as dist\n",
        "from collections import OrderedDict\n",
        "import numpy as np"
      ]
    },
    {
      "cell_type": "markdown",
      "source": [
        "Crating class object"
      ],
      "metadata": {
        "id": "ZPUFQ3f3Qbgn"
      }
    },
    {
      "cell_type": "code",
      "source": [
        "class CentroidTracker:\n",
        "  def __init__(self, maxDisappeared = 80, maxDistance = 80):\n",
        "    #initialize next object id\n",
        "    self.nextObjectID = 0\n",
        "    self.objects = OrderedDict()\n",
        "    self.disappered = OrderedDict()\n",
        "    self.maxDisappeared = maxDisappeared\n",
        "    self.maxDistance = maxDistance\n",
        "\n",
        "  def resister(self, centroid):\n",
        "    self.objects[self.nextObjectID] = centroid\n",
        "    self.disappeared[self.nextObjectID] = 0\n",
        "    self.nextObjectID += 1\n",
        "\n",
        "  def deresister(self, objectID):\n",
        "    del self.objects[objectID]\n",
        "    del self.disappeared[objectID]\n",
        "\n",
        "  def update(self, rects):\n",
        "    if len(react) == 0:\n",
        "      for objectID in list(self.disappered.keys()):\n",
        "        self.disappered[objectID] += 1\n",
        "        if self.disappeared[objectID] > self.maxDisappeared:\n",
        "          self.deresister(objectID)\n",
        "      return self.objects\n",
        "    for (i, (startX, startY, endX, endY)) in enumurate(reacts):\n",
        "      cX = int((startX + endX)/2.0)\n",
        "      cY = int((startY + endY)/2.0)\n",
        "      inputCentroids[i] = (cX, cY)\n",
        "    if len(self.objects) == 0:\n",
        "      for i in range(0, len(self.objects)):\n",
        "        self.resister(inputCentroid[i])\n",
        "    else:\n",
        "      objectIDs = list(self.objects.keys())\n",
        "      objectCentroids = list(self.objects.values())\n",
        "      D = dist.csist(np.array(objectCentroids), inputCentroids)\n",
        "      rows = D.min(axis=1).argsort()\n",
        "      cols = D.argmin(axis=1)[rows]\n",
        "      usedRows = set()\n",
        "      usedCols = set()\n",
        "      for (row, col) in zip(rows, cols):\n",
        "        if D[row, col] > self.maxDistance:\n",
        "          continue\n",
        "        objectID = objectIDs[row]\n",
        "        self.objects[objectID] = inputCentroids[col]\n",
        "        self.disappeared[objectID] = 0\n",
        "        usedRows.add(row)\n",
        "        usedCols.add(col)\n",
        "      unusedRows = set(rang(0, D.shape[0])).difference(usedRows)\n",
        "      unusedCols = set(rang(0, D.shape[1])).difference(usedCols)\n",
        "      if D.shape[0] >= D.shape[1]:\n",
        "        for row in unusedRows:\n",
        "          objectID = objectsIDs[row]\n",
        "          selff.disappeared[objectID] += 1\n",
        "          if self.disappeared[objectID] > self.maxDisappeared:\n",
        "            self.deresister(objectID)\n",
        "      else:\n",
        "        for col in unusedCols:\n",
        "          self.resister(inputCentroids[col])\n",
        "    return self.objects\n"
      ],
      "metadata": {
        "id": "q2CDVSbHOXpV"
      },
      "execution_count": 4,
      "outputs": []
    },
    {
      "cell_type": "code",
      "source": [],
      "metadata": {
        "id": "2aysBSroeZFm"
      },
      "execution_count": null,
      "outputs": []
    }
  ]
}