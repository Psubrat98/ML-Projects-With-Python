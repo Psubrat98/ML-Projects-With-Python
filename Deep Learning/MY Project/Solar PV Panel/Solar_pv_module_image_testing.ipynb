{
  "nbformat": 4,
  "nbformat_minor": 0,
  "metadata": {
    "colab": {
      "provenance": [],
      "mount_file_id": "1ic2vvtrFHv-yJyIdRiBKJ90x5vwOq3Xx",
      "authorship_tag": "ABX9TyNKXZRIE0ejrC3ZwPqbnKN7",
      "include_colab_link": true
    },
    "kernelspec": {
      "name": "python3",
      "display_name": "Python 3"
    },
    "language_info": {
      "name": "python"
    }
  },
  "cells": [
    {
      "cell_type": "markdown",
      "metadata": {
        "id": "view-in-github",
        "colab_type": "text"
      },
      "source": [
        "<a href=\"https://colab.research.google.com/github/Psubrat98/ML-Projects-With-Python/blob/main/Deep%20Learning/MY%20Project/Solar%20PV%20Panel/Solar_pv_module_image_testing.ipynb\" target=\"_parent\"><img src=\"https://colab.research.google.com/assets/colab-badge.svg\" alt=\"Open In Colab\"/></a>"
      ]
    },
    {
      "cell_type": "markdown",
      "source": [
        "Loading dependent libraries"
      ],
      "metadata": {
        "id": "Dx5iahMlJLD1"
      }
    },
    {
      "cell_type": "code",
      "execution_count": 2,
      "metadata": {
        "id": "nQ40bMz771TE"
      },
      "outputs": [],
      "source": [
        "from tensorflow.keras.models import load_model\n",
        "from tensorflow.keras.preprocessing.image import load_img\n",
        "from tensorflow.keras.preprocessing.image import img_to_array\n",
        "from tensorflow.keras.applications.vgg16 import preprocess_input\n",
        "from tensorflow.keras.applications.vgg16 import decode_predictions\n",
        "from tensorflow.keras.applications.vgg16 import VGG16\n",
        "import numpy as np"
      ]
    },
    {
      "cell_type": "markdown",
      "source": [
        "Loading Saved Model"
      ],
      "metadata": {
        "id": "CjsYpkCLJUAN"
      }
    },
    {
      "cell_type": "code",
      "source": [
        "model = load_model('/content/drive/MyDrive/ML Project/ML & DL MODELS/DL Models/Solar PV Model/model_Solar_PV_resnet50.h5')"
      ],
      "metadata": {
        "id": "rlnq6GqQ-RKJ"
      },
      "execution_count": 3,
      "outputs": []
    },
    {
      "cell_type": "markdown",
      "source": [
        "Loading image path by using input function"
      ],
      "metadata": {
        "id": "1geODPGUJYda"
      }
    },
    {
      "cell_type": "code",
      "source": [
        "img_path = input('Enter image path:')"
      ],
      "metadata": {
        "colab": {
          "base_uri": "https://localhost:8080/"
        },
        "id": "eB4vDTXdFTWp",
        "outputId": "8bd6514b-b724-4b4a-ddbe-13fc74509fd4"
      },
      "execution_count": 111,
      "outputs": [
        {
          "name": "stdout",
          "output_type": "stream",
          "text": [
            "Enter image path:/content/solar_Fri_Jun_16_14__16__40_2017_L_0.724467132146_I_0.319580392157.jpg\n"
          ]
        }
      ]
    },
    {
      "cell_type": "code",
      "source": [
        "image = load_img(img_path, target_size=(224,224))"
      ],
      "metadata": {
        "id": "abszIb1BBj5o"
      },
      "execution_count": 112,
      "outputs": []
    },
    {
      "cell_type": "code",
      "source": [
        "img = np.array(image)"
      ],
      "metadata": {
        "id": "Bo-zHY_7CbFq"
      },
      "execution_count": 113,
      "outputs": []
    },
    {
      "cell_type": "code",
      "source": [
        "img = img / 255"
      ],
      "metadata": {
        "id": "NpNOc0fLCr3m"
      },
      "execution_count": 114,
      "outputs": []
    },
    {
      "cell_type": "code",
      "source": [
        "img = img.reshape(1, 224, 224, 3)"
      ],
      "metadata": {
        "id": "dF1jy49VCvLd"
      },
      "execution_count": 115,
      "outputs": []
    },
    {
      "cell_type": "code",
      "source": [
        "prediction = model.predict(img)"
      ],
      "metadata": {
        "colab": {
          "base_uri": "https://localhost:8080/"
        },
        "id": "C2GykheNC5UM",
        "outputId": "e971bc0c-6abc-4905-f0fe-83d6b03280f9"
      },
      "execution_count": 116,
      "outputs": [
        {
          "output_type": "stream",
          "name": "stdout",
          "text": [
            "1/1 [==============================] - 0s 215ms/step\n"
          ]
        }
      ]
    },
    {
      "cell_type": "code",
      "source": [
        "print(prediction)"
      ],
      "metadata": {
        "colab": {
          "base_uri": "https://localhost:8080/"
        },
        "id": "75RLBHXFDCI8",
        "outputId": "c465c18e-4b9d-4d4f-9fd5-8107af8082bd"
      },
      "execution_count": 117,
      "outputs": [
        {
          "output_type": "stream",
          "name": "stdout",
          "text": [
            "[[0.27314886 0.6859916  0.04085957]]\n"
          ]
        }
      ]
    },
    {
      "cell_type": "code",
      "source": [
        "label = np.argmax(prediction, axis=1)"
      ],
      "metadata": {
        "id": "bb1Q_mykDSTN"
      },
      "execution_count": 118,
      "outputs": []
    },
    {
      "cell_type": "code",
      "source": [
        "if label == 0:\n",
        "  print('PV Module contains drop-dust particles')\n",
        "elif label == 1:\n",
        "  print('PV Module contains less-dust particles')\n",
        "else:\n",
        "  print('PV Module contains some-dust particles')"
      ],
      "metadata": {
        "colab": {
          "base_uri": "https://localhost:8080/"
        },
        "id": "SK9hf9uqF1Kk",
        "outputId": "e6eb97ab-d056-4766-bd1e-a19a2974d94d"
      },
      "execution_count": 119,
      "outputs": [
        {
          "output_type": "stream",
          "name": "stdout",
          "text": [
            "PV Module contains less-dust particles\n"
          ]
        }
      ]
    }
  ]
}